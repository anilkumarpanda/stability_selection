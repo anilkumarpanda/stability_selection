{
 "cells": [
  {
   "cell_type": "markdown",
   "metadata": {},
   "source": [
    "## Feature Selection Comparison:\n",
    "1. Load UCI Credit dataset.\n",
    "2. Create noisy data with make classification.\n",
    "3. Try different Feature selection algorithms.\n",
    "4. Compare results.\n",
    "5. Conclusion"
   ]
  },
  {
   "cell_type": "code",
   "execution_count": 7,
   "metadata": {},
   "outputs": [],
   "source": [
    "import numpy as np\n",
    "import pandas as pd\n",
    "import matplotlib.pyplot as plt\n",
    "import seaborn as sns\n",
    "import scipy.stats as stats\n",
    "import shap\n",
    "import warnings\n",
    "warnings.filterwarnings('ignore')\n",
    "from sklearn.linear_model import LogisticRegression\n",
    "from sklearn.pipeline import Pipeline\n",
    "from sklearn.preprocessing import StandardScaler\n",
    "from sklearn.utils import check_random_state\n",
    "from stability_selection import StabilitySelection, plot_stability_path\n",
    "from sklearn.ensemble import RandomForestClassifier\n",
    "from sklearn.model_selection import train_test_split\n",
    "from mlxtend.feature_selection import SequentialFeatureSelector as SFS\n",
    "from sklearn.model_selection import cross_val_score,cross_validate\n",
    "from xgboost import XGBClassifier"
   ]
  },
  {
   "cell_type": "markdown",
   "metadata": {},
   "source": [
    "### 1. Read UCI Credit Card and add noise."
   ]
  },
  {
   "cell_type": "code",
   "execution_count": 8,
   "metadata": {},
   "outputs": [
    {
     "name": "stdout",
     "output_type": "stream",
     "text": [
      "Loaded train data with shape (233154, 58)\n"
     ]
    },
    {
     "data": {
      "text/html": [
       "<div>\n",
       "<style scoped>\n",
       "    .dataframe tbody tr th:only-of-type {\n",
       "        vertical-align: middle;\n",
       "    }\n",
       "\n",
       "    .dataframe tbody tr th {\n",
       "        vertical-align: top;\n",
       "    }\n",
       "\n",
       "    .dataframe thead th {\n",
       "        text-align: right;\n",
       "    }\n",
       "</style>\n",
       "<table border=\"1\" class=\"dataframe\">\n",
       "  <thead>\n",
       "    <tr style=\"text-align: right;\">\n",
       "      <th></th>\n",
       "      <th>disbursed_amount</th>\n",
       "      <th>asset_cost</th>\n",
       "      <th>ltv</th>\n",
       "      <th>mobileno_avl_flag</th>\n",
       "      <th>aadhar_flag</th>\n",
       "      <th>pan_flag</th>\n",
       "      <th>voterid_flag</th>\n",
       "      <th>driving_flag</th>\n",
       "      <th>passport_flag</th>\n",
       "      <th>perform_cns_score</th>\n",
       "      <th>...</th>\n",
       "      <th>score_hrg</th>\n",
       "      <th>scored</th>\n",
       "      <th>amt_rejected</th>\n",
       "      <th>loan_to_pbal</th>\n",
       "      <th>sec_loan_to_pbal</th>\n",
       "      <th>pri_avg_installments</th>\n",
       "      <th>pri_avg_active_installments</th>\n",
       "      <th>sec_avg_installments</th>\n",
       "      <th>sec_avg_active_installments</th>\n",
       "      <th>tenure_primary</th>\n",
       "    </tr>\n",
       "  </thead>\n",
       "  <tbody>\n",
       "    <tr>\n",
       "      <th>0</th>\n",
       "      <td>50578.0</td>\n",
       "      <td>58400.0</td>\n",
       "      <td>89.55</td>\n",
       "      <td>1</td>\n",
       "      <td>1</td>\n",
       "      <td>0</td>\n",
       "      <td>0</td>\n",
       "      <td>0</td>\n",
       "      <td>0</td>\n",
       "      <td>0</td>\n",
       "      <td>...</td>\n",
       "      <td>0</td>\n",
       "      <td>0</td>\n",
       "      <td>0.133938</td>\n",
       "      <td>50578.00000</td>\n",
       "      <td>50578.0</td>\n",
       "      <td>0.0</td>\n",
       "      <td>0.0</td>\n",
       "      <td>0.0</td>\n",
       "      <td>0.0</td>\n",
       "      <td>0.000000</td>\n",
       "    </tr>\n",
       "    <tr>\n",
       "      <th>1</th>\n",
       "      <td>47145.0</td>\n",
       "      <td>65550.0</td>\n",
       "      <td>73.23</td>\n",
       "      <td>1</td>\n",
       "      <td>1</td>\n",
       "      <td>0</td>\n",
       "      <td>0</td>\n",
       "      <td>0</td>\n",
       "      <td>0</td>\n",
       "      <td>598</td>\n",
       "      <td>...</td>\n",
       "      <td>1</td>\n",
       "      <td>1</td>\n",
       "      <td>0.280778</td>\n",
       "      <td>1.70809</td>\n",
       "      <td>47145.0</td>\n",
       "      <td>50200.0</td>\n",
       "      <td>50200.0</td>\n",
       "      <td>0.0</td>\n",
       "      <td>0.0</td>\n",
       "      <td>2.100067</td>\n",
       "    </tr>\n",
       "    <tr>\n",
       "      <th>2</th>\n",
       "      <td>53278.0</td>\n",
       "      <td>61360.0</td>\n",
       "      <td>89.63</td>\n",
       "      <td>1</td>\n",
       "      <td>1</td>\n",
       "      <td>0</td>\n",
       "      <td>0</td>\n",
       "      <td>0</td>\n",
       "      <td>0</td>\n",
       "      <td>0</td>\n",
       "      <td>...</td>\n",
       "      <td>0</td>\n",
       "      <td>0</td>\n",
       "      <td>0.131714</td>\n",
       "      <td>53278.00000</td>\n",
       "      <td>53278.0</td>\n",
       "      <td>0.0</td>\n",
       "      <td>0.0</td>\n",
       "      <td>0.0</td>\n",
       "      <td>0.0</td>\n",
       "      <td>0.000000</td>\n",
       "    </tr>\n",
       "    <tr>\n",
       "      <th>3</th>\n",
       "      <td>57513.0</td>\n",
       "      <td>66113.0</td>\n",
       "      <td>88.48</td>\n",
       "      <td>1</td>\n",
       "      <td>1</td>\n",
       "      <td>0</td>\n",
       "      <td>0</td>\n",
       "      <td>0</td>\n",
       "      <td>0</td>\n",
       "      <td>305</td>\n",
       "      <td>...</td>\n",
       "      <td>1</td>\n",
       "      <td>1</td>\n",
       "      <td>0.130080</td>\n",
       "      <td>57513.00000</td>\n",
       "      <td>57513.0</td>\n",
       "      <td>0.0</td>\n",
       "      <td>0.0</td>\n",
       "      <td>0.0</td>\n",
       "      <td>0.0</td>\n",
       "      <td>0.000000</td>\n",
       "    </tr>\n",
       "    <tr>\n",
       "      <th>4</th>\n",
       "      <td>52378.0</td>\n",
       "      <td>60300.0</td>\n",
       "      <td>88.39</td>\n",
       "      <td>1</td>\n",
       "      <td>1</td>\n",
       "      <td>0</td>\n",
       "      <td>0</td>\n",
       "      <td>0</td>\n",
       "      <td>0</td>\n",
       "      <td>0</td>\n",
       "      <td>...</td>\n",
       "      <td>0</td>\n",
       "      <td>0</td>\n",
       "      <td>0.131376</td>\n",
       "      <td>52378.00000</td>\n",
       "      <td>52378.0</td>\n",
       "      <td>0.0</td>\n",
       "      <td>0.0</td>\n",
       "      <td>0.0</td>\n",
       "      <td>0.0</td>\n",
       "      <td>0.000000</td>\n",
       "    </tr>\n",
       "  </tbody>\n",
       "</table>\n",
       "<p>5 rows × 43 columns</p>\n",
       "</div>"
      ],
      "text/plain": [
       "   disbursed_amount  asset_cost    ltv  mobileno_avl_flag  aadhar_flag  \\\n",
       "0           50578.0     58400.0  89.55                  1            1   \n",
       "1           47145.0     65550.0  73.23                  1            1   \n",
       "2           53278.0     61360.0  89.63                  1            1   \n",
       "3           57513.0     66113.0  88.48                  1            1   \n",
       "4           52378.0     60300.0  88.39                  1            1   \n",
       "\n",
       "   pan_flag  voterid_flag  driving_flag  passport_flag  perform_cns_score  \\\n",
       "0         0             0             0              0                  0   \n",
       "1         0             0             0              0                598   \n",
       "2         0             0             0              0                  0   \n",
       "3         0             0             0              0                305   \n",
       "4         0             0             0              0                  0   \n",
       "\n",
       "   ...  score_hrg  scored  amt_rejected  loan_to_pbal  sec_loan_to_pbal  \\\n",
       "0  ...          0       0      0.133938   50578.00000           50578.0   \n",
       "1  ...          1       1      0.280778       1.70809           47145.0   \n",
       "2  ...          0       0      0.131714   53278.00000           53278.0   \n",
       "3  ...          1       1      0.130080   57513.00000           57513.0   \n",
       "4  ...          0       0      0.131376   52378.00000           52378.0   \n",
       "\n",
       "   pri_avg_installments  pri_avg_active_installments  sec_avg_installments  \\\n",
       "0                   0.0                          0.0                   0.0   \n",
       "1               50200.0                      50200.0                   0.0   \n",
       "2                   0.0                          0.0                   0.0   \n",
       "3                   0.0                          0.0                   0.0   \n",
       "4                   0.0                          0.0                   0.0   \n",
       "\n",
       "   sec_avg_active_installments  tenure_primary  \n",
       "0                          0.0        0.000000  \n",
       "1                          0.0        2.100067  \n",
       "2                          0.0        0.000000  \n",
       "3                          0.0        0.000000  \n",
       "4                          0.0        0.000000  \n",
       "\n",
       "[5 rows x 43 columns]"
      ]
     },
     "execution_count": 8,
     "metadata": {},
     "output_type": "execute_result"
    }
   ],
   "source": [
    "data = pd.read_csv('data/train_fin_cols.csv')\n",
    "\n",
    "y_org = data['loan_default']\n",
    "X_org = data.drop(['loan_default'],axis=1)\n",
    "\n",
    "print(\"Loaded train data with shape {}\".format(X_org.shape))\n",
    "\n",
    "categorical_columns_to_drop = ['uniqueid','branch_id','supplier_id','manufacturer_id','current_pincode_id',\n",
    "                               'state_id','employee_code_id','perform_cns_score_description','employment_type','state_hrg','emp_hrg',\n",
    "                              'branch_hrg','pincode_hrg','supplier_hrg','manf_hrg']\n",
    "categorical_columns = ['employment_type','perform_cns_score_description']\n",
    "\n",
    "X_lnt = X_org.drop(categorical_columns_to_drop,axis=1)\n",
    "X_lnt.head()"
   ]
  },
  {
   "cell_type": "code",
   "execution_count": 9,
   "metadata": {},
   "outputs": [
    {
     "name": "stdout",
     "output_type": "stream",
     "text": [
      "Shape of df after initial cleaning :(233154, 36)\n"
     ]
    }
   ],
   "source": [
    "# Drop co-related features :\n",
    "\n",
    "# Create correlation matrix\n",
    "corr_matrix = X_lnt.corr().abs()\n",
    "\n",
    "# Select upper triangle of correlation matrix\n",
    "upper = corr_matrix.where(np.triu(np.ones(corr_matrix.shape), k=1).astype(np.bool))\n",
    "\n",
    "# Find index of feature columns with correlation greater than 0.95\n",
    "to_drop = [column for column in upper.columns if any(upper[column] > 0.95)]\n",
    "\n",
    "X_lnt = X_lnt.drop(to_drop,axis=1)\n",
    "\n",
    "print(f'Shape of df after initial cleaning :{X_lnt.shape}')\n",
    "X_train, X_test, y_train, y_test = train_test_split(X_lnt, y_org,\n",
    "                                                    test_size=0.3,random_state=345)\n"
   ]
  },
  {
   "cell_type": "markdown",
   "metadata": {},
   "source": [
    "### 2.Stability Selection:"
   ]
  },
  {
   "cell_type": "code",
   "execution_count": 10,
   "metadata": {},
   "outputs": [
    {
     "name": "stdout",
     "output_type": "stream",
     "text": [
      "Fitting estimator for lambda = 4.00000 (1 / 6) on 100 bootstrap samples\n"
     ]
    },
    {
     "name": "stderr",
     "output_type": "stream",
     "text": [
      "[Parallel(n_jobs=4)]: Using backend LokyBackend with 4 concurrent workers.\n",
      "[Parallel(n_jobs=4)]: Done  42 tasks      | elapsed:    7.9s\n",
      "[Parallel(n_jobs=4)]: Done 100 out of 100 | elapsed:   16.3s finished\n",
      "[Parallel(n_jobs=4)]: Using backend LokyBackend with 4 concurrent workers.\n"
     ]
    },
    {
     "name": "stdout",
     "output_type": "stream",
     "text": [
      "Fitting estimator for lambda = 5.00000 (2 / 6) on 100 bootstrap samples\n"
     ]
    },
    {
     "name": "stderr",
     "output_type": "stream",
     "text": [
      "[Parallel(n_jobs=4)]: Done  42 tasks      | elapsed:    9.5s\n",
      "[Parallel(n_jobs=4)]: Done 100 out of 100 | elapsed:   18.6s finished\n",
      "[Parallel(n_jobs=4)]: Using backend LokyBackend with 4 concurrent workers.\n"
     ]
    },
    {
     "name": "stdout",
     "output_type": "stream",
     "text": [
      "Fitting estimator for lambda = 6.00000 (3 / 6) on 100 bootstrap samples\n"
     ]
    },
    {
     "name": "stderr",
     "output_type": "stream",
     "text": [
      "[Parallel(n_jobs=4)]: Done  42 tasks      | elapsed:    8.5s\n",
      "[Parallel(n_jobs=4)]: Done 100 out of 100 | elapsed:   19.1s finished\n",
      "[Parallel(n_jobs=4)]: Using backend LokyBackend with 4 concurrent workers.\n"
     ]
    },
    {
     "name": "stdout",
     "output_type": "stream",
     "text": [
      "Fitting estimator for lambda = 7.00000 (4 / 6) on 100 bootstrap samples\n"
     ]
    },
    {
     "name": "stderr",
     "output_type": "stream",
     "text": [
      "[Parallel(n_jobs=4)]: Done  42 tasks      | elapsed:    9.8s\n",
      "[Parallel(n_jobs=4)]: Done 100 out of 100 | elapsed:   21.4s finished\n",
      "[Parallel(n_jobs=4)]: Using backend LokyBackend with 4 concurrent workers.\n"
     ]
    },
    {
     "name": "stdout",
     "output_type": "stream",
     "text": [
      "Fitting estimator for lambda = 8.00000 (5 / 6) on 100 bootstrap samples\n"
     ]
    },
    {
     "name": "stderr",
     "output_type": "stream",
     "text": [
      "[Parallel(n_jobs=4)]: Done  42 tasks      | elapsed:   11.4s\n",
      "[Parallel(n_jobs=4)]: Done 100 out of 100 | elapsed:   25.2s finished\n",
      "[Parallel(n_jobs=4)]: Using backend LokyBackend with 4 concurrent workers.\n"
     ]
    },
    {
     "name": "stdout",
     "output_type": "stream",
     "text": [
      "Fitting estimator for lambda = 9.00000 (6 / 6) on 100 bootstrap samples\n"
     ]
    },
    {
     "name": "stderr",
     "output_type": "stream",
     "text": [
      "[Parallel(n_jobs=4)]: Done  42 tasks      | elapsed:   14.1s\n",
      "[Parallel(n_jobs=4)]: Done 100 out of 100 | elapsed:   29.8s finished\n"
     ]
    },
    {
     "data": {
      "image/png": "[encoded data removed]",
      "text/plain": [
       "<Figure size 432x288 with 1 Axes>"
      ]
     },
     "metadata": {
      "needs_background": "light"
     },
     "output_type": "display_data"
    }
   ],
   "source": [
    "base_estimator = Pipeline([\n",
    "    ('model', RandomForestClassifier(max_depth=4,n_estimators=10,n_jobs=4))])\n",
    "\n",
    "selector = StabilitySelection(base_estimator=base_estimator,\n",
    "                              lambda_name='model__max_depth',\n",
    "                              n_bootstrap_iterations=100,\n",
    "                              n_jobs=4,\n",
    "                              lambda_grid=np.arange(4,10,step=1),\n",
    "                              verbose=1)\n",
    "selector.fit(X_train,y_train)\n",
    "\n",
    "fig, ax = plot_stability_path(selector)\n",
    "fig.show()"
   ]
  },
  {
   "cell_type": "code",
   "execution_count": 11,
   "metadata": {},
   "outputs": [
    {
     "name": "stdout",
     "output_type": "stream",
     "text": [
      "Variable Name : disbursed_amount \t Stability Score :1.0\n",
      "Variable Name : asset_cost \t Stability Score :1.0\n",
      "Variable Name : ltv \t Stability Score :1.0\n",
      "Variable Name : perform_cns_score \t Stability Score :1.0\n",
      "Variable Name : pri_overdue_accts \t Stability Score :0.81\n",
      "Variable Name : pri_current_balance \t Stability Score :0.99\n",
      "Variable Name : no_of_inquiries \t Stability Score :0.67\n",
      "Variable Name : age_when_disbursal \t Stability Score :0.99\n",
      "Variable Name : avg_acct_age_m \t Stability Score :0.71\n",
      "Variable Name : credit_hist_len_m \t Stability Score :1.0\n",
      "Variable Name : ltv_delta \t Stability Score :1.0\n",
      "Variable Name : score_hrg \t Stability Score :0.96\n",
      "Variable Name : loan_to_pbal \t Stability Score :1.0\n",
      "Variable Name : sec_loan_to_pbal \t Stability Score :1.0\n",
      "Variable Name : pri_avg_installments \t Stability Score :0.86\n",
      "Variable Name : pri_avg_active_installments \t Stability Score :0.98\n",
      "Variable Name : tenure_primary \t Stability Score :0.96\n",
      "No.of features selected 17 \n",
      "\n"
     ]
    }
   ],
   "source": [
    "# Print the names of the most important features\n",
    "selected_variables = selector.get_support(indices=True)\n",
    "selected_scores = selector.stability_scores_.max(axis=1)\n",
    "ss_flist = []\n",
    "for feature_list_index in selector.get_support(indices=True):\n",
    "    print(f'Variable Name : {X_lnt.columns[feature_list_index]} \\t Stability Score :{selected_scores[feature_list_index]}')\n",
    "    ss_flist.append(X_lnt.columns[feature_list_index])\n",
    "\n",
    "ss_flist = sorted(ss_flist)\n",
    "\n",
    "n_feats = len(ss_flist)\n",
    "print(f'No.of features selected {n_feats} \\n')"
   ]
  },
  {
   "cell_type": "markdown",
   "metadata": {},
   "source": [
    "### 3.SHAP Feature Importances"
   ]
  },
  {
   "cell_type": "code",
   "execution_count": 12,
   "metadata": {},
   "outputs": [
    {
     "name": "stdout",
     "output_type": "stream",
     "text": [
      "['ltv', 'perform_cns_score', 'score_hrg', 'sec_loan_to_pbal', 'loan_to_pbal', 'disbursed_amount', 'tenure_primary', 'pri_current_balance', 'pri_overdue_accts', 'no_of_inquiries', 'aadhar_flag', 'pri_no_of_accts', 'credit_hist_len_m', 'pri_avg_active_installments', 'age_when_disbursal', 'avg_acct_age_m', 'voterid_flag']\n"
     ]
    }
   ],
   "source": [
    "# Build the model with the random forest regression algorithm:\n",
    "model = RandomForestClassifier(max_depth=4, random_state=456, n_estimators=20)\n",
    "model.fit(X_train,y_train)\n",
    "\n",
    "explainer = shap.TreeExplainer(model)\n",
    "shap_values = explainer.shap_values(X_train,y_train,check_additivity=False)\n",
    "\n",
    "shap_vals= np.abs(shap_values).mean(0)\n",
    "feature_importance = pd.DataFrame(list(zip(X_lnt.columns, sum(shap_vals))), columns=['col_name','feature_importance_vals'])\n",
    "feature_importance.sort_values(by=['feature_importance_vals'], ascending=False,inplace=True)\n",
    "shap_flist = list(feature_importance.col_name[0:n_feats])\n",
    "\n",
    "shap_flist = sorted(shap_flist)\n",
    "print(shap_flist)"
   ]
  },
  {
   "cell_type": "markdown",
   "metadata": {},
   "source": [
    "### 4.MLXtend SFS"
   ]
  },
  {
   "cell_type": "code",
   "execution_count": 13,
   "metadata": {},
   "outputs": [
    {
     "name": "stderr",
     "output_type": "stream",
     "text": [
      "[Parallel(n_jobs=6)]: Using backend LokyBackend with 6 concurrent workers.\n",
      "[Parallel(n_jobs=6)]: Done  36 out of  36 | elapsed:   14.2s finished\n",
      "Features: 1/17[Parallel(n_jobs=6)]: Using backend LokyBackend with 6 concurrent workers.\n",
      "[Parallel(n_jobs=6)]: Done  35 out of  35 | elapsed:   20.0s finished\n",
      "[Parallel(n_jobs=2)]: Using backend LokyBackend with 2 concurrent workers.\n",
      "[Parallel(n_jobs=2)]: Done   1 out of   1 | elapsed:    2.0s finished\n",
      "Features: 2/17[Parallel(n_jobs=6)]: Using backend LokyBackend with 6 concurrent workers.\n",
      "[Parallel(n_jobs=6)]: Done  34 out of  34 | elapsed:   19.9s finished\n",
      "[Parallel(n_jobs=3)]: Using backend LokyBackend with 3 concurrent workers.\n",
      "[Parallel(n_jobs=3)]: Done   2 out of   2 | elapsed:    3.1s finished\n",
      "Features: 3/17[Parallel(n_jobs=6)]: Using backend LokyBackend with 6 concurrent workers.\n",
      "[Parallel(n_jobs=6)]: Done  33 out of  33 | elapsed:   25.9s finished\n",
      "[Parallel(n_jobs=4)]: Using backend LokyBackend with 4 concurrent workers.\n",
      "[Parallel(n_jobs=4)]: Done   3 out of   3 | elapsed:    3.0s finished\n",
      "Features: 4/17[Parallel(n_jobs=6)]: Using backend LokyBackend with 6 concurrent workers.\n",
      "[Parallel(n_jobs=6)]: Done  32 out of  32 | elapsed:   24.2s finished\n",
      "[Parallel(n_jobs=5)]: Using backend LokyBackend with 5 concurrent workers.\n",
      "[Parallel(n_jobs=5)]: Done   4 out of   4 | elapsed:    3.1s finished\n",
      "Features: 5/17[Parallel(n_jobs=6)]: Using backend LokyBackend with 6 concurrent workers.\n",
      "[Parallel(n_jobs=6)]: Done  31 out of  31 | elapsed:   20.1s finished\n",
      "[Parallel(n_jobs=6)]: Using backend LokyBackend with 6 concurrent workers.\n",
      "[Parallel(n_jobs=6)]: Done   5 out of   5 | elapsed:    3.4s finished\n",
      "Features: 6/17[Parallel(n_jobs=6)]: Using backend LokyBackend with 6 concurrent workers.\n",
      "[Parallel(n_jobs=6)]: Done  30 out of  30 | elapsed:   18.7s finished\n",
      "[Parallel(n_jobs=6)]: Using backend LokyBackend with 6 concurrent workers.\n",
      "[Parallel(n_jobs=6)]: Done   2 out of   6 | elapsed:    3.7s remaining:    7.3s\n",
      "[Parallel(n_jobs=6)]: Done   6 out of   6 | elapsed:    4.2s finished\n",
      "Features: 7/17[Parallel(n_jobs=6)]: Using backend LokyBackend with 6 concurrent workers.\n",
      "[Parallel(n_jobs=6)]: Done  29 out of  29 | elapsed:   19.2s finished\n",
      "[Parallel(n_jobs=6)]: Using backend LokyBackend with 6 concurrent workers.\n",
      "[Parallel(n_jobs=6)]: Done   4 out of   7 | elapsed:    4.2s remaining:    3.1s\n",
      "[Parallel(n_jobs=6)]: Done   7 out of   7 | elapsed:    5.9s finished\n",
      "Features: 8/17[Parallel(n_jobs=6)]: Using backend LokyBackend with 6 concurrent workers.\n",
      "[Parallel(n_jobs=6)]: Done  28 out of  28 | elapsed:   23.6s finished\n",
      "[Parallel(n_jobs=6)]: Using backend LokyBackend with 6 concurrent workers.\n",
      "[Parallel(n_jobs=6)]: Done   6 out of   8 | elapsed:    3.8s remaining:    1.3s\n",
      "[Parallel(n_jobs=6)]: Done   8 out of   8 | elapsed:    5.9s finished\n",
      "Features: 9/17[Parallel(n_jobs=6)]: Using backend LokyBackend with 6 concurrent workers.\n",
      "[Parallel(n_jobs=6)]: Done  27 out of  27 | elapsed:   25.3s finished\n",
      "[Parallel(n_jobs=6)]: Using backend LokyBackend with 6 concurrent workers.\n",
      "[Parallel(n_jobs=6)]: Done   9 out of   9 | elapsed:    7.6s finished\n",
      "Features: 10/17[Parallel(n_jobs=6)]: Using backend LokyBackend with 6 concurrent workers.\n",
      "[Parallel(n_jobs=6)]: Done  26 out of  26 | elapsed:   21.0s finished\n",
      "[Parallel(n_jobs=6)]: Using backend LokyBackend with 6 concurrent workers.\n",
      "[Parallel(n_jobs=6)]: Done  10 out of  10 | elapsed:    8.0s remaining:    0.0s\n",
      "[Parallel(n_jobs=6)]: Done  10 out of  10 | elapsed:    8.0s finished\n",
      "[Parallel(n_jobs=6)]: Using backend LokyBackend with 6 concurrent workers.\n",
      "[Parallel(n_jobs=6)]: Done   9 out of   9 | elapsed:    7.0s finished\n",
      "Features: 10/17[Parallel(n_jobs=6)]: Using backend LokyBackend with 6 concurrent workers.\n",
      "[Parallel(n_jobs=6)]: Done  26 out of  26 | elapsed:   20.7s finished\n",
      "[Parallel(n_jobs=6)]: Using backend LokyBackend with 6 concurrent workers.\n",
      "[Parallel(n_jobs=6)]: Done  10 out of  10 | elapsed:    8.9s remaining:    0.0s\n",
      "[Parallel(n_jobs=6)]: Done  10 out of  10 | elapsed:    8.9s finished\n",
      "Features: 11/17[Parallel(n_jobs=6)]: Using backend LokyBackend with 6 concurrent workers.\n",
      "[Parallel(n_jobs=6)]: Done  25 out of  25 | elapsed:   18.5s finished\n",
      "[Parallel(n_jobs=6)]: Using backend LokyBackend with 6 concurrent workers.\n",
      "[Parallel(n_jobs=6)]: Done  11 out of  11 | elapsed:    8.3s finished\n",
      "Features: 12/17[Parallel(n_jobs=6)]: Using backend LokyBackend with 6 concurrent workers.\n",
      "[Parallel(n_jobs=6)]: Done  24 out of  24 | elapsed:   17.7s finished\n",
      "[Parallel(n_jobs=6)]: Using backend LokyBackend with 6 concurrent workers.\n",
      "[Parallel(n_jobs=6)]: Done  12 out of  12 | elapsed:    8.5s finished\n",
      "[Parallel(n_jobs=6)]: Using backend LokyBackend with 6 concurrent workers.\n",
      "[Parallel(n_jobs=6)]: Done  11 out of  11 | elapsed:    8.3s finished\n",
      "Features: 12/17[Parallel(n_jobs=6)]: Using backend LokyBackend with 6 concurrent workers.\n",
      "[Parallel(n_jobs=6)]: Done  24 out of  24 | elapsed:   18.3s finished\n",
      "[Parallel(n_jobs=6)]: Using backend LokyBackend with 6 concurrent workers.\n",
      "[Parallel(n_jobs=6)]: Done  12 out of  12 | elapsed:    8.3s finished\n",
      "Features: 13/17[Parallel(n_jobs=6)]: Using backend LokyBackend with 6 concurrent workers.\n",
      "[Parallel(n_jobs=6)]: Done  23 out of  23 | elapsed:   16.3s finished\n",
      "[Parallel(n_jobs=6)]: Using backend LokyBackend with 6 concurrent workers.\n",
      "[Parallel(n_jobs=6)]: Done  13 out of  13 | elapsed:   10.1s finished\n",
      "Features: 14/17[Parallel(n_jobs=6)]: Using backend LokyBackend with 6 concurrent workers.\n",
      "[Parallel(n_jobs=6)]: Done  22 out of  22 | elapsed:   17.4s finished\n",
      "[Parallel(n_jobs=6)]: Using backend LokyBackend with 6 concurrent workers.\n",
      "[Parallel(n_jobs=6)]: Done  14 out of  14 | elapsed:    9.9s finished\n",
      "Features: 15/17[Parallel(n_jobs=6)]: Using backend LokyBackend with 6 concurrent workers.\n",
      "[Parallel(n_jobs=6)]: Done  21 out of  21 | elapsed:   17.1s finished\n",
      "[Parallel(n_jobs=6)]: Using backend LokyBackend with 6 concurrent workers.\n",
      "[Parallel(n_jobs=6)]: Done  15 out of  15 | elapsed:   11.4s finished\n",
      "Features: 16/17[Parallel(n_jobs=6)]: Using backend LokyBackend with 6 concurrent workers.\n",
      "[Parallel(n_jobs=6)]: Done  20 out of  20 | elapsed:   18.3s finished\n",
      "[Parallel(n_jobs=6)]: Using backend LokyBackend with 6 concurrent workers.\n",
      "[Parallel(n_jobs=6)]: Done  16 out of  16 | elapsed:   12.9s finished\n",
      "Features: 17/17"
     ]
    }
   ],
   "source": [
    "sfs1 = SFS(model, \n",
    "           k_features=(n_feats-5,n_feats), \n",
    "           forward=True, \n",
    "           floating=True, \n",
    "           verbose=1,\n",
    "           scoring='roc_auc',\n",
    "           n_jobs=6,\n",
    "           cv=3)\n",
    "\n",
    "sfs1 = sfs1.fit(X_train, y_train)\n",
    "sfs1_flist=list(sfs1.k_feature_names_)"
   ]
  },
  {
   "cell_type": "markdown",
   "metadata": {},
   "source": [
    "### 5.Combine selected features."
   ]
  },
  {
   "cell_type": "code",
   "execution_count": 14,
   "metadata": {},
   "outputs": [
    {
     "name": "stdout",
     "output_type": "stream",
     "text": [
      "['asset_cost', 'ltv', 'aadhar_flag', 'voterid_flag', 'passport_flag', 'perform_cns_score', 'pri_no_of_accts', 'pri_active_accts', 'pri_overdue_accts', 'sec_instal_amt', 'delinquent_accts_in_last_six_months', 'no_of_inquiries', 'age_when_disbursal', 'credit_hist_len_m', 'loan_to_pbal', 'tenure_primary']\n",
      "Features selected with SS : ['disbursed_amount', 'asset_cost', 'ltv', 'perform_cns_score', 'pri_overdue_accts', 'pri_current_balance', 'no_of_inquiries', 'age_when_disbursal', 'avg_acct_age_m', 'credit_hist_len_m', 'ltv_delta', 'score_hrg', 'loan_to_pbal', 'sec_loan_to_pbal', 'pri_avg_installments', 'pri_avg_active_installments', 'tenure_primary'] \n",
      "\n",
      "Features selected with SFS : ['asset_cost', 'ltv', 'aadhar_flag', 'voterid_flag', 'passport_flag', 'perform_cns_score', 'pri_no_of_accts', 'pri_active_accts', 'pri_overdue_accts', 'sec_instal_amt', 'delinquent_accts_in_last_six_months', 'no_of_inquiries', 'age_when_disbursal', 'credit_hist_len_m', 'loan_to_pbal', 'tenure_primary'] \n",
      "\n",
      "Features selected with SHAP : ['ltv', 'perform_cns_score', 'score_hrg', 'sec_loan_to_pbal', 'loan_to_pbal', 'disbursed_amount', 'tenure_primary', 'pri_current_balance', 'pri_overdue_accts', 'no_of_inquiries', 'aadhar_flag', 'pri_no_of_accts', 'credit_hist_len_m', 'pri_avg_active_installments', 'age_when_disbursal', 'avg_acct_age_m', 'voterid_flag'] \n",
      "\n",
      "Features selected with FSP : ['sec_instal_amt', 'sec_loan_to_pbal', 'avg_acct_age_m', 'age_when_disbursal', 'pri_current_balance', 'pri_no_of_accts', 'perform_cns_score', 'pri_overdue_accts', 'ltv', 'asset_cost', 'aadhar_flag', 'loan_to_pbal', 'tenure_primary', 'ltv_delta', 'delinquent_accts_in_last_six_months', 'credit_hist_len_m', 'pri_avg_active_installments', 'pri_avg_installments', 'no_of_inquiries', 'disbursed_amount', 'score_hrg', 'pri_active_accts', 'passport_flag', 'voterid_flag'] \n",
      "\n",
      "Features selected with All Columns : ['disbursed_amount', 'asset_cost', 'ltv', 'mobileno_avl_flag', 'aadhar_flag', 'pan_flag', 'voterid_flag', 'driving_flag', 'passport_flag', 'perform_cns_score', 'pri_no_of_accts', 'pri_active_accts', 'pri_overdue_accts', 'pri_current_balance', 'sec_no_of_accts', 'sec_active_accts', 'sec_overdue_accts', 'sec_current_balance', 'sec_sanctioned_amount', 'primary_instal_amt', 'sec_instal_amt', 'new_accts_in_last_six_months', 'delinquent_accts_in_last_six_months', 'no_of_inquiries', 'age_when_disbursal', 'avg_acct_age_m', 'credit_hist_len_m', 'ltv_delta', 'age_hrg', 'score_hrg', 'loan_to_pbal', 'sec_loan_to_pbal', 'pri_avg_installments', 'pri_avg_active_installments', 'sec_avg_installments', 'tenure_primary'] \n",
      "\n"
     ]
    }
   ],
   "source": [
    "sfs1_flist= sorted(sfs1_flist)\n",
    "print(sfs1_flist)\n",
    "\n",
    "total_fs_list=list(set(sfs1_flist+ss_flist+shap_flist))\n",
    "\n",
    "fs_method_list = [(\"SS\",ss_flist),\n",
    "                  (\"SFS\",sfs1_flist),\n",
    "                  (\"SHAP\",shap_flist),\n",
    "                  (\"FSP\",total_fs_list),\n",
    "                  (\"All Columns\",list(X_lnt.columns))]\n",
    "\n",
    "result_df = pd.DataFrame()\n",
    "\n",
    "# xgb_params={'n_estimators': 284, 'max_depth': 18, \n",
    "#             'min_child_weight': 6, 'scale_pos_weight': 66, \n",
    "#             'subsample': 0.8, 'colsample_bytree': 0.8}\n",
    "\n",
    "for feature_list in fs_method_list:\n",
    "    \n",
    "    print(f'Features selected with {feature_list[0]} : {feature_list[1]} \\n')\n",
    "    X_fs = X_lnt[feature_list[1]]\n",
    "    clf = XGBClassifier()\n",
    "    scores = cross_validate(clf,X_fs,y_org,cv=5,scoring='roc_auc',return_train_score=True)\n",
    "    \n",
    "    result_df[f'{feature_list[0]}_mean_train_score']=scores['train_score']\n",
    "    result_df[f'{feature_list[0]}_mean_test_score']=scores['test_score']\n",
    "    result_df[f'{feature_list[0]}_mean_overfit']=(scores['train_score']-scores['test_score'])\n"
   ]
  },
  {
   "cell_type": "markdown",
   "metadata": {},
   "source": [
    "### 6.Results"
   ]
  },
  {
   "cell_type": "code",
   "execution_count": 15,
   "metadata": {},
   "outputs": [
    {
     "data": {
      "text/html": [
       "<div>\n",
       "<style scoped>\n",
       "    .dataframe tbody tr th:only-of-type {\n",
       "        vertical-align: middle;\n",
       "    }\n",
       "\n",
       "    .dataframe tbody tr th {\n",
       "        vertical-align: top;\n",
       "    }\n",
       "\n",
       "    .dataframe thead th {\n",
       "        text-align: right;\n",
       "    }\n",
       "</style>\n",
       "<table border=\"1\" class=\"dataframe\">\n",
       "  <thead>\n",
       "    <tr style=\"text-align: right;\">\n",
       "      <th></th>\n",
       "      <th>SS_mean_train_score</th>\n",
       "      <th>SS_mean_test_score</th>\n",
       "      <th>SS_mean_overfit</th>\n",
       "      <th>SFS_mean_train_score</th>\n",
       "      <th>SFS_mean_test_score</th>\n",
       "      <th>SFS_mean_overfit</th>\n",
       "      <th>SHAP_mean_train_score</th>\n",
       "      <th>SHAP_mean_test_score</th>\n",
       "      <th>SHAP_mean_overfit</th>\n",
       "      <th>FSP_mean_train_score</th>\n",
       "      <th>FSP_mean_test_score</th>\n",
       "      <th>FSP_mean_overfit</th>\n",
       "      <th>All Columns_mean_train_score</th>\n",
       "      <th>All Columns_mean_test_score</th>\n",
       "      <th>All Columns_mean_overfit</th>\n",
       "    </tr>\n",
       "  </thead>\n",
       "  <tbody>\n",
       "    <tr>\n",
       "      <th>0</th>\n",
       "      <td>0.719179</td>\n",
       "      <td>0.623817</td>\n",
       "      <td>0.095361</td>\n",
       "      <td>0.712449</td>\n",
       "      <td>0.628729</td>\n",
       "      <td>0.083721</td>\n",
       "      <td>0.710887</td>\n",
       "      <td>0.627446</td>\n",
       "      <td>0.083441</td>\n",
       "      <td>0.721430</td>\n",
       "      <td>0.628628</td>\n",
       "      <td>0.092803</td>\n",
       "      <td>0.720218</td>\n",
       "      <td>0.628721</td>\n",
       "      <td>0.091497</td>\n",
       "    </tr>\n",
       "    <tr>\n",
       "      <th>1</th>\n",
       "      <td>0.718138</td>\n",
       "      <td>0.628391</td>\n",
       "      <td>0.089747</td>\n",
       "      <td>0.710358</td>\n",
       "      <td>0.635192</td>\n",
       "      <td>0.075166</td>\n",
       "      <td>0.711108</td>\n",
       "      <td>0.634240</td>\n",
       "      <td>0.076869</td>\n",
       "      <td>0.720550</td>\n",
       "      <td>0.636574</td>\n",
       "      <td>0.083976</td>\n",
       "      <td>0.723555</td>\n",
       "      <td>0.638253</td>\n",
       "      <td>0.085302</td>\n",
       "    </tr>\n",
       "    <tr>\n",
       "      <th>2</th>\n",
       "      <td>0.718523</td>\n",
       "      <td>0.622955</td>\n",
       "      <td>0.095567</td>\n",
       "      <td>0.711736</td>\n",
       "      <td>0.630858</td>\n",
       "      <td>0.080878</td>\n",
       "      <td>0.711509</td>\n",
       "      <td>0.632185</td>\n",
       "      <td>0.079324</td>\n",
       "      <td>0.718471</td>\n",
       "      <td>0.629362</td>\n",
       "      <td>0.089109</td>\n",
       "      <td>0.723579</td>\n",
       "      <td>0.628632</td>\n",
       "      <td>0.094947</td>\n",
       "    </tr>\n",
       "    <tr>\n",
       "      <th>3</th>\n",
       "      <td>0.719191</td>\n",
       "      <td>0.626404</td>\n",
       "      <td>0.092787</td>\n",
       "      <td>0.712140</td>\n",
       "      <td>0.631706</td>\n",
       "      <td>0.080435</td>\n",
       "      <td>0.710176</td>\n",
       "      <td>0.631165</td>\n",
       "      <td>0.079012</td>\n",
       "      <td>0.725144</td>\n",
       "      <td>0.631711</td>\n",
       "      <td>0.093432</td>\n",
       "      <td>0.723293</td>\n",
       "      <td>0.629384</td>\n",
       "      <td>0.093910</td>\n",
       "    </tr>\n",
       "    <tr>\n",
       "      <th>4</th>\n",
       "      <td>0.720211</td>\n",
       "      <td>0.617281</td>\n",
       "      <td>0.102930</td>\n",
       "      <td>0.710207</td>\n",
       "      <td>0.622772</td>\n",
       "      <td>0.087435</td>\n",
       "      <td>0.711527</td>\n",
       "      <td>0.620355</td>\n",
       "      <td>0.091172</td>\n",
       "      <td>0.722669</td>\n",
       "      <td>0.623104</td>\n",
       "      <td>0.099565</td>\n",
       "      <td>0.723906</td>\n",
       "      <td>0.622555</td>\n",
       "      <td>0.101351</td>\n",
       "    </tr>\n",
       "  </tbody>\n",
       "</table>\n",
       "</div>"
      ],
      "text/plain": [
       "   SS_mean_train_score  SS_mean_test_score  SS_mean_overfit  \\\n",
       "0             0.719179            0.623817         0.095361   \n",
       "1             0.718138            0.628391         0.089747   \n",
       "2             0.718523            0.622955         0.095567   \n",
       "3             0.719191            0.626404         0.092787   \n",
       "4             0.720211            0.617281         0.102930   \n",
       "\n",
       "   SFS_mean_train_score  SFS_mean_test_score  SFS_mean_overfit  \\\n",
       "0              0.712449             0.628729          0.083721   \n",
       "1              0.710358             0.635192          0.075166   \n",
       "2              0.711736             0.630858          0.080878   \n",
       "3              0.712140             0.631706          0.080435   \n",
       "4              0.710207             0.622772          0.087435   \n",
       "\n",
       "   SHAP_mean_train_score  SHAP_mean_test_score  SHAP_mean_overfit  \\\n",
       "0               0.710887              0.627446           0.083441   \n",
       "1               0.711108              0.634240           0.076869   \n",
       "2               0.711509              0.632185           0.079324   \n",
       "3               0.710176              0.631165           0.079012   \n",
       "4               0.711527              0.620355           0.091172   \n",
       "\n",
       "   FSP_mean_train_score  FSP_mean_test_score  FSP_mean_overfit  \\\n",
       "0              0.721430             0.628628          0.092803   \n",
       "1              0.720550             0.636574          0.083976   \n",
       "2              0.718471             0.629362          0.089109   \n",
       "3              0.725144             0.631711          0.093432   \n",
       "4              0.722669             0.623104          0.099565   \n",
       "\n",
       "   All Columns_mean_train_score  All Columns_mean_test_score  \\\n",
       "0                      0.720218                     0.628721   \n",
       "1                      0.723555                     0.638253   \n",
       "2                      0.723579                     0.628632   \n",
       "3                      0.723293                     0.629384   \n",
       "4                      0.723906                     0.622555   \n",
       "\n",
       "   All Columns_mean_overfit  \n",
       "0                  0.091497  \n",
       "1                  0.085302  \n",
       "2                  0.094947  \n",
       "3                  0.093910  \n",
       "4                  0.101351  "
      ]
     },
     "execution_count": 15,
     "metadata": {},
     "output_type": "execute_result"
    }
   ],
   "source": [
    "result_df"
   ]
  },
  {
   "cell_type": "code",
   "execution_count": 16,
   "metadata": {},
   "outputs": [
    {
     "data": {
      "text/plain": [
       "SS_mean_train_score             0.719048\n",
       "SS_mean_test_score              0.623770\n",
       "SS_mean_overfit                 0.095278\n",
       "SFS_mean_train_score            0.711378\n",
       "SFS_mean_test_score             0.629851\n",
       "SFS_mean_overfit                0.081527\n",
       "SHAP_mean_train_score           0.711042\n",
       "SHAP_mean_test_score            0.629078\n",
       "SHAP_mean_overfit               0.081963\n",
       "FSP_mean_train_score            0.721653\n",
       "FSP_mean_test_score             0.629876\n",
       "FSP_mean_overfit                0.091777\n",
       "All Columns_mean_train_score    0.722910\n",
       "All Columns_mean_test_score     0.629509\n",
       "All Columns_mean_overfit        0.093401\n",
       "dtype: float64"
      ]
     },
     "execution_count": 16,
     "metadata": {},
     "output_type": "execute_result"
    }
   ],
   "source": [
    "result_df.apply(lambda x :np.mean(x),axis=0)"
   ]
  },
  {
   "cell_type": "markdown",
   "metadata": {},
   "source": [
    "### Appendix\n",
    "Optimisation using Optuna."
   ]
  },
  {
   "cell_type": "code",
   "execution_count": 17,
   "metadata": {},
   "outputs": [],
   "source": [
    "import os\n",
    "import numpy as np\n",
    "import pandas as pd\n",
    "from sklearn import preprocessing\n",
    "import xgboost as xgb\n",
    "import optuna\n",
    "import functools\n",
    "from sklearn.model_selection import train_test_split\n",
    "from sklearn.metrics import roc_curve,auc,accuracy_score,f1_score,roc_auc_score"
   ]
  },
  {
   "cell_type": "code",
   "execution_count": 27,
   "metadata": {},
   "outputs": [],
   "source": [
    "def opt(X_train, y_train, X_test, y_test, trial):\n",
    "    #param_list\n",
    "    n_estimators = trial.suggest_int('n_estimators',0,500)\n",
    "    max_depth = trial.suggest_int('max_depth', 1,10)\n",
    "    min_child_weight = trial.suggest_int('min_child_weight', 1,10)\n",
    "    learning_rate = trial.suggest_discrete_uniform('learning_rate', 0.01, 0.1,0.01)\n",
    "    scale_pos_weight = trial.suggest_int('scale_pos_weight', 1,30)\n",
    "    subsample = trial.suggest_discrete_uniform('subsample', 0.5, 0.9, 0.1)\n",
    "    colsample_bytree = trial.suggest_discrete_uniform('colsample_bytree', 0.5, 0.9, 0.1)\n",
    "\n",
    "    xgboost_tuna = xgb.XGBClassifier(\n",
    "        random_state=946, \n",
    "        n_estimators = n_estimators,\n",
    "        max_depth = max_depth,\n",
    "        min_child_weight = min_child_weight,\n",
    "        learning_rate = learning_rate,\n",
    "        scale_pos_weight = scale_pos_weight,\n",
    "        subsample = subsample,\n",
    "        colsample_bytree = colsample_bytree,\n",
    "    )\n",
    "    xgboost_tuna.fit(X_train, y_train)\n",
    "    tuna_pred_test = xgboost_tuna.predict_proba(X_test)[:,1]\n",
    "    \n",
    "    return (1.0 - (roc_auc_score(y_test,tuna_pred_test)))\n",
    "\n",
    "def get_opt_parameters(X,y):\n",
    "    \"\"\"\n",
    "    Takes X,y and returns best parameters.\n",
    "    \n",
    "    \"\"\"\n",
    "    X_train, X_test, y_train, y_test = train_test_split(X, y,test_size=0.7,random_state=345)\n",
    "    study = optuna.create_study()\n",
    "    study.optimize(functools.partial(opt,X_train, y_train, X_test, y_test),n_trials=10)\n",
    "    return study.best_params\n",
    "    "
   ]
  },
  {
   "cell_type": "code",
   "execution_count": 28,
   "metadata": {},
   "outputs": [
    {
     "name": "stdout",
     "output_type": "stream",
     "text": [
      "Features selected with SS : ['disbursed_amount', 'asset_cost', 'ltv', 'perform_cns_score', 'pri_overdue_accts', 'pri_current_balance', 'no_of_inquiries', 'age_when_disbursal', 'avg_acct_age_m', 'credit_hist_len_m', 'ltv_delta', 'score_hrg', 'loan_to_pbal', 'sec_loan_to_pbal', 'pri_avg_installments', 'pri_avg_active_installments', 'tenure_primary'] \n",
      "\n"
     ]
    },
    {
     "name": "stderr",
     "output_type": "stream",
     "text": [
      "\u001b[32m[I 2020-04-14 21:33:20,830]\u001b[0m Finished trial#0 with value: 0.38573908405990043 with parameters: {'n_estimators': 15, 'max_depth': 8, 'min_child_weight': 10, 'learning_rate': 0.03, 'scale_pos_weight': 20, 'subsample': 0.9, 'colsample_bytree': 0.5}. Best is trial#0 with value: 0.38573908405990043.\u001b[0m\n",
      "\u001b[32m[I 2020-04-14 21:33:29,445]\u001b[0m Finished trial#1 with value: 0.37764823660497804 with parameters: {'n_estimators': 400, 'max_depth': 1, 'min_child_weight': 3, 'learning_rate': 0.09, 'scale_pos_weight': 24, 'subsample': 0.9, 'colsample_bytree': 0.9}. Best is trial#1 with value: 0.37764823660497804.\u001b[0m\n",
      "\u001b[32m[I 2020-04-14 21:33:54,496]\u001b[0m Finished trial#2 with value: 0.3946403555155056 with parameters: {'n_estimators': 272, 'max_depth': 8, 'min_child_weight': 3, 'learning_rate': 0.09, 'scale_pos_weight': 15, 'subsample': 0.7, 'colsample_bytree': 0.6}. Best is trial#1 with value: 0.37764823660497804.\u001b[0m\n",
      "\u001b[32m[I 2020-04-14 21:34:16,887]\u001b[0m Finished trial#3 with value: 0.3865571792035889 with parameters: {'n_estimators': 168, 'max_depth': 9, 'min_child_weight': 3, 'learning_rate': 0.06999999999999999, 'scale_pos_weight': 5, 'subsample': 0.5, 'colsample_bytree': 0.8}. Best is trial#1 with value: 0.37764823660497804.\u001b[0m\n",
      "\u001b[32m[I 2020-04-14 21:34:37,825]\u001b[0m Finished trial#4 with value: 0.37623136072765184 with parameters: {'n_estimators': 455, 'max_depth': 3, 'min_child_weight': 4, 'learning_rate': 0.09, 'scale_pos_weight': 24, 'subsample': 0.9, 'colsample_bytree': 0.9}. Best is trial#4 with value: 0.37623136072765184.\u001b[0m\n",
      "\u001b[32m[I 2020-04-14 21:35:16,193]\u001b[0m Finished trial#5 with value: 0.37670542779196425 with parameters: {'n_estimators': 309, 'max_depth': 8, 'min_child_weight': 2, 'learning_rate': 0.02, 'scale_pos_weight': 6, 'subsample': 0.5, 'colsample_bytree': 0.8}. Best is trial#4 with value: 0.37623136072765184.\u001b[0m\n",
      "\u001b[32m[I 2020-04-14 21:36:15,369]\u001b[0m Finished trial#6 with value: 0.3933021278682364 with parameters: {'n_estimators': 351, 'max_depth': 10, 'min_child_weight': 8, 'learning_rate': 0.05, 'scale_pos_weight': 14, 'subsample': 0.6, 'colsample_bytree': 0.9}. Best is trial#4 with value: 0.37623136072765184.\u001b[0m\n",
      "\u001b[32m[I 2020-04-14 21:37:06,657]\u001b[0m Finished trial#7 with value: 0.4010946925362018 with parameters: {'n_estimators': 490, 'max_depth': 9, 'min_child_weight': 10, 'learning_rate': 0.08, 'scale_pos_weight': 24, 'subsample': 0.5, 'colsample_bytree': 0.6}. Best is trial#4 with value: 0.37623136072765184.\u001b[0m\n",
      "\u001b[32m[I 2020-04-14 21:37:13,339]\u001b[0m Finished trial#8 with value: 0.38455336515179117 with parameters: {'n_estimators': 392, 'max_depth': 1, 'min_child_weight': 4, 'learning_rate': 0.02, 'scale_pos_weight': 9, 'subsample': 0.7, 'colsample_bytree': 0.5}. Best is trial#4 with value: 0.37623136072765184.\u001b[0m\n",
      "\u001b[32m[I 2020-04-14 21:37:28,815]\u001b[0m Finished trial#9 with value: 0.384241331637588 with parameters: {'n_estimators': 162, 'max_depth': 8, 'min_child_weight': 2, 'learning_rate': 0.060000000000000005, 'scale_pos_weight': 10, 'subsample': 0.5, 'colsample_bytree': 0.6}. Best is trial#4 with value: 0.37623136072765184.\u001b[0m\n"
     ]
    },
    {
     "name": "stdout",
     "output_type": "stream",
     "text": [
      "Features selected with SFS : ['asset_cost', 'ltv', 'aadhar_flag', 'voterid_flag', 'passport_flag', 'perform_cns_score', 'pri_no_of_accts', 'pri_active_accts', 'pri_overdue_accts', 'sec_instal_amt', 'delinquent_accts_in_last_six_months', 'no_of_inquiries', 'age_when_disbursal', 'credit_hist_len_m', 'loan_to_pbal', 'tenure_primary'] \n",
      "\n"
     ]
    },
    {
     "name": "stderr",
     "output_type": "stream",
     "text": [
      "\u001b[32m[I 2020-04-14 21:40:23,230]\u001b[0m Finished trial#0 with value: 0.36809351292948955 with parameters: {'n_estimators': 477, 'max_depth': 5, 'min_child_weight': 9, 'learning_rate': 0.02, 'scale_pos_weight': 19, 'subsample': 0.5, 'colsample_bytree': 0.7}. Best is trial#0 with value: 0.36809351292948955.\u001b[0m\n",
      "\u001b[32m[I 2020-04-14 21:40:28,214]\u001b[0m Finished trial#1 with value: 0.37556084112107346 with parameters: {'n_estimators': 99, 'max_depth': 4, 'min_child_weight': 1, 'learning_rate': 0.03, 'scale_pos_weight': 29, 'subsample': 0.8, 'colsample_bytree': 0.8}. Best is trial#0 with value: 0.36809351292948955.\u001b[0m\n",
      "\u001b[32m[I 2020-04-14 21:41:14,616]\u001b[0m Finished trial#2 with value: 0.4089854393666701 with parameters: {'n_estimators': 343, 'max_depth': 10, 'min_child_weight': 1, 'learning_rate': 0.08, 'scale_pos_weight': 30, 'subsample': 0.7, 'colsample_bytree': 0.9}. Best is trial#0 with value: 0.36809351292948955.\u001b[0m\n",
      "\u001b[32m[I 2020-04-14 21:41:26,859]\u001b[0m Finished trial#3 with value: 0.36675249748414107 with parameters: {'n_estimators': 191, 'max_depth': 6, 'min_child_weight': 4, 'learning_rate': 0.03, 'scale_pos_weight': 3, 'subsample': 0.9, 'colsample_bytree': 0.7}. Best is trial#3 with value: 0.36675249748414107.\u001b[0m\n",
      "\u001b[32m[I 2020-04-14 21:41:29,420]\u001b[0m Finished trial#4 with value: 0.37214822108139345 with parameters: {'n_estimators': 112, 'max_depth': 2, 'min_child_weight': 5, 'learning_rate': 0.06999999999999999, 'scale_pos_weight': 16, 'subsample': 0.9, 'colsample_bytree': 0.5}. Best is trial#3 with value: 0.36675249748414107.\u001b[0m\n",
      "\u001b[32m[I 2020-04-14 21:41:39,340]\u001b[0m Finished trial#5 with value: 0.3827937211100192 with parameters: {'n_estimators': 78, 'max_depth': 10, 'min_child_weight': 6, 'learning_rate': 0.04, 'scale_pos_weight': 22, 'subsample': 0.5, 'colsample_bytree': 0.8}. Best is trial#3 with value: 0.36675249748414107.\u001b[0m\n",
      "\u001b[32m[I 2020-04-14 21:41:40,908]\u001b[0m Finished trial#6 with value: 0.404972583892943 with parameters: {'n_estimators': 84, 'max_depth': 1, 'min_child_weight': 4, 'learning_rate': 0.01, 'scale_pos_weight': 22, 'subsample': 0.5, 'colsample_bytree': 0.6}. Best is trial#3 with value: 0.36675249748414107.\u001b[0m\n",
      "\u001b[32m[I 2020-04-14 21:41:55,505]\u001b[0m Finished trial#7 with value: 0.37408906403887165 with parameters: {'n_estimators': 205, 'max_depth': 8, 'min_child_weight': 9, 'learning_rate': 0.060000000000000005, 'scale_pos_weight': 8, 'subsample': 0.7, 'colsample_bytree': 0.5}. Best is trial#3 with value: 0.36675249748414107.\u001b[0m\n",
      "\u001b[32m[I 2020-04-14 21:41:56,365]\u001b[0m Finished trial#8 with value: 0.37898229482595003 with parameters: {'n_estimators': 7, 'max_depth': 8, 'min_child_weight': 4, 'learning_rate': 0.02, 'scale_pos_weight': 4, 'subsample': 0.6, 'colsample_bytree': 0.6}. Best is trial#3 with value: 0.36675249748414107.\u001b[0m\n",
      "\u001b[32m[I 2020-04-14 21:42:04,148]\u001b[0m Finished trial#9 with value: 0.3701757360961391 with parameters: {'n_estimators': 290, 'max_depth': 2, 'min_child_weight': 1, 'learning_rate': 0.04, 'scale_pos_weight': 21, 'subsample': 0.7, 'colsample_bytree': 0.7}. Best is trial#3 with value: 0.36675249748414107.\u001b[0m\n"
     ]
    },
    {
     "name": "stdout",
     "output_type": "stream",
     "text": [
      "Features selected with SHAP : ['ltv', 'perform_cns_score', 'score_hrg', 'sec_loan_to_pbal', 'loan_to_pbal', 'disbursed_amount', 'tenure_primary', 'pri_current_balance', 'pri_overdue_accts', 'no_of_inquiries', 'aadhar_flag', 'pri_no_of_accts', 'credit_hist_len_m', 'pri_avg_active_installments', 'age_when_disbursal', 'avg_acct_age_m', 'voterid_flag'] \n",
      "\n"
     ]
    },
    {
     "name": "stderr",
     "output_type": "stream",
     "text": [
      "\u001b[32m[I 2020-04-14 21:43:37,668]\u001b[0m Finished trial#0 with value: 0.38065640637493237 with parameters: {'n_estimators': 94, 'max_depth': 8, 'min_child_weight': 5, 'learning_rate': 0.01, 'scale_pos_weight': 22, 'subsample': 0.7, 'colsample_bytree': 0.6}. Best is trial#0 with value: 0.38065640637493237.\u001b[0m\n",
      "\u001b[32m[I 2020-04-14 21:44:06,560]\u001b[0m Finished trial#1 with value: 0.3824572940862516 with parameters: {'n_estimators': 272, 'max_depth': 8, 'min_child_weight': 8, 'learning_rate': 0.09, 'scale_pos_weight': 2, 'subsample': 0.6, 'colsample_bytree': 0.8}. Best is trial#0 with value: 0.38065640637493237.\u001b[0m\n",
      "\u001b[32m[I 2020-04-14 21:44:16,167]\u001b[0m Finished trial#2 with value: 0.3828189981187604 with parameters: {'n_estimators': 128, 'max_depth': 7, 'min_child_weight': 1, 'learning_rate': 0.09999999999999999, 'scale_pos_weight': 13, 'subsample': 0.5, 'colsample_bytree': 0.6}. Best is trial#0 with value: 0.38065640637493237.\u001b[0m\n",
      "\u001b[32m[I 2020-04-14 21:44:23,504]\u001b[0m Finished trial#3 with value: 0.3814235283033305 with parameters: {'n_estimators': 67, 'max_depth': 9, 'min_child_weight': 1, 'learning_rate': 0.06999999999999999, 'scale_pos_weight': 10, 'subsample': 0.8, 'colsample_bytree': 0.7}. Best is trial#0 with value: 0.38065640637493237.\u001b[0m\n",
      "\u001b[32m[I 2020-04-14 21:45:02,498]\u001b[0m Finished trial#4 with value: 0.402485156851226 with parameters: {'n_estimators': 469, 'max_depth': 10, 'min_child_weight': 3, 'learning_rate': 0.09999999999999999, 'scale_pos_weight': 7, 'subsample': 0.9, 'colsample_bytree': 0.5}. Best is trial#0 with value: 0.38065640637493237.\u001b[0m\n",
      "\u001b[32m[I 2020-04-14 21:45:08,238]\u001b[0m Finished trial#5 with value: 0.3827973513939881 with parameters: {'n_estimators': 46, 'max_depth': 10, 'min_child_weight': 6, 'learning_rate': 0.02, 'scale_pos_weight': 14, 'subsample': 0.9, 'colsample_bytree': 0.7}. Best is trial#0 with value: 0.38065640637493237.\u001b[0m\n",
      "\u001b[32m[I 2020-04-14 21:45:23,105]\u001b[0m Finished trial#6 with value: 0.37960012297052714 with parameters: {'n_estimators': 237, 'max_depth': 6, 'min_child_weight': 3, 'learning_rate': 0.09999999999999999, 'scale_pos_weight': 14, 'subsample': 0.9, 'colsample_bytree': 0.7}. Best is trial#6 with value: 0.37960012297052714.\u001b[0m\n",
      "\u001b[32m[I 2020-04-14 21:45:26,706]\u001b[0m Finished trial#7 with value: 0.39079160094900867 with parameters: {'n_estimators': 22, 'max_depth': 10, 'min_child_weight': 1, 'learning_rate': 0.060000000000000005, 'scale_pos_weight': 23, 'subsample': 0.6, 'colsample_bytree': 0.8}. Best is trial#6 with value: 0.37960012297052714.\u001b[0m\n",
      "\u001b[32m[I 2020-04-14 21:45:29,391]\u001b[0m Finished trial#8 with value: 0.38046600235293426 with parameters: {'n_estimators': 109, 'max_depth': 1, 'min_child_weight': 4, 'learning_rate': 0.08, 'scale_pos_weight': 19, 'subsample': 0.5, 'colsample_bytree': 0.8}. Best is trial#6 with value: 0.37960012297052714.\u001b[0m\n",
      "\u001b[32m[I 2020-04-14 21:46:02,742]\u001b[0m Finished trial#9 with value: 0.38023117342317314 with parameters: {'n_estimators': 440, 'max_depth': 6, 'min_child_weight': 10, 'learning_rate': 0.08, 'scale_pos_weight': 10, 'subsample': 0.5, 'colsample_bytree': 0.6}. Best is trial#6 with value: 0.37960012297052714.\u001b[0m\n"
     ]
    },
    {
     "name": "stdout",
     "output_type": "stream",
     "text": [
      "Features selected with FSP : ['sec_instal_amt', 'sec_loan_to_pbal', 'avg_acct_age_m', 'age_when_disbursal', 'pri_current_balance', 'pri_no_of_accts', 'perform_cns_score', 'pri_overdue_accts', 'ltv', 'asset_cost', 'aadhar_flag', 'loan_to_pbal', 'tenure_primary', 'ltv_delta', 'delinquent_accts_in_last_six_months', 'credit_hist_len_m', 'pri_avg_active_installments', 'pri_avg_installments', 'no_of_inquiries', 'disbursed_amount', 'score_hrg', 'pri_active_accts', 'passport_flag', 'voterid_flag'] \n",
      "\n"
     ]
    },
    {
     "name": "stderr",
     "output_type": "stream",
     "text": [
      "\u001b[32m[I 2020-04-14 21:48:33,821]\u001b[0m Finished trial#0 with value: 0.37082094143931865 with parameters: {'n_estimators': 435, 'max_depth': 5, 'min_child_weight': 3, 'learning_rate': 0.05, 'scale_pos_weight': 15, 'subsample': 0.8, 'colsample_bytree': 0.5}. Best is trial#0 with value: 0.37082094143931865.\u001b[0m\n",
      "\u001b[32m[I 2020-04-14 21:48:53,329]\u001b[0m Finished trial#1 with value: 0.3667189338014354 with parameters: {'n_estimators': 293, 'max_depth': 4, 'min_child_weight': 1, 'learning_rate': 0.08, 'scale_pos_weight': 3, 'subsample': 0.8, 'colsample_bytree': 0.6}. Best is trial#1 with value: 0.3667189338014354.\u001b[0m\n",
      "\u001b[32m[I 2020-04-14 21:50:02,258]\u001b[0m Finished trial#2 with value: 0.40165146770385474 with parameters: {'n_estimators': 430, 'max_depth': 10, 'min_child_weight': 6, 'learning_rate': 0.08, 'scale_pos_weight': 24, 'subsample': 0.9, 'colsample_bytree': 0.6}. Best is trial#1 with value: 0.3667189338014354.\u001b[0m\n",
      "\u001b[32m[I 2020-04-14 21:50:35,180]\u001b[0m Finished trial#3 with value: 0.37339498478587885 with parameters: {'n_estimators': 263, 'max_depth': 7, 'min_child_weight': 6, 'learning_rate': 0.01, 'scale_pos_weight': 24, 'subsample': 0.6, 'colsample_bytree': 0.6}. Best is trial#1 with value: 0.3667189338014354.\u001b[0m\n",
      "\u001b[32m[I 2020-04-14 21:50:58,002]\u001b[0m Finished trial#4 with value: 0.3698441327214077 with parameters: {'n_estimators': 441, 'max_depth': 3, 'min_child_weight': 3, 'learning_rate': 0.09999999999999999, 'scale_pos_weight': 18, 'subsample': 0.7, 'colsample_bytree': 0.7}. Best is trial#1 with value: 0.3667189338014354.\u001b[0m\n",
      "\u001b[32m[I 2020-04-14 21:51:01,154]\u001b[0m Finished trial#5 with value: 0.38303517451484204 with parameters: {'n_estimators': 21, 'max_depth': 10, 'min_child_weight': 9, 'learning_rate': 0.060000000000000005, 'scale_pos_weight': 10, 'subsample': 0.5, 'colsample_bytree': 0.5}. Best is trial#1 with value: 0.3667189338014354.\u001b[0m\n",
      "\u001b[32m[I 2020-04-14 21:51:25,276]\u001b[0m Finished trial#6 with value: 0.37998858303273486 with parameters: {'n_estimators': 220, 'max_depth': 6, 'min_child_weight': 2, 'learning_rate': 0.08, 'scale_pos_weight': 29, 'subsample': 0.7, 'colsample_bytree': 0.8}. Best is trial#1 with value: 0.3667189338014354.\u001b[0m\n",
      "\u001b[32m[I 2020-04-14 21:51:32,266]\u001b[0m Finished trial#7 with value: 0.36835387180169044 with parameters: {'n_estimators': 89, 'max_depth': 4, 'min_child_weight': 2, 'learning_rate': 0.060000000000000005, 'scale_pos_weight': 10, 'subsample': 0.7, 'colsample_bytree': 0.8}. Best is trial#1 with value: 0.3667189338014354.\u001b[0m\n",
      "\u001b[32m[I 2020-04-14 21:52:16,793]\u001b[0m Finished trial#8 with value: 0.3712487332443629 with parameters: {'n_estimators': 412, 'max_depth': 8, 'min_child_weight': 3, 'learning_rate': 0.01, 'scale_pos_weight': 10, 'subsample': 0.7, 'colsample_bytree': 0.5}. Best is trial#1 with value: 0.3667189338014354.\u001b[0m\n",
      "\u001b[32m[I 2020-04-14 21:52:45,366]\u001b[0m Finished trial#9 with value: 0.3691361805856894 with parameters: {'n_estimators': 320, 'max_depth': 5, 'min_child_weight': 10, 'learning_rate': 0.060000000000000005, 'scale_pos_weight': 9, 'subsample': 0.8, 'colsample_bytree': 0.8}. Best is trial#1 with value: 0.3667189338014354.\u001b[0m\n"
     ]
    }
   ],
   "source": [
    "fs_method_list = [(\"SS\",ss_flist),\n",
    "                  (\"SFS\",sfs1_flist),\n",
    "                  (\"SHAP\",shap_flist),\n",
    "                  (\"FSP\",total_fs_list)]\n",
    "\n",
    "result_df = pd.DataFrame()\n",
    "\n",
    "for feature_list in fs_method_list:\n",
    "    \n",
    "    print(f'Features selected with {feature_list[0]} : {feature_list[1]} \\n')\n",
    "    \n",
    "    X_fs = X_lnt[feature_list[1]]\n",
    "    optimised_param = get_opt_parameters(X_fs,y_org)\n",
    "    \n",
    "    clf = XGBClassifier(**optimised_param)\n",
    "    \n",
    "    scores = cross_validate(clf,X_fs,y_org,cv=3,scoring='roc_auc',return_train_score=True)\n",
    "    \n",
    "    result_df[f'{feature_list[0]}_mean_train_score']=scores['train_score']\n",
    "    result_df[f'{feature_list[0]}_mean_test_score']=scores['test_score']\n",
    "    result_df[f'{feature_list[0]}_mean_overfit']=(scores['train_score']-scores['test_score'])"
   ]
  },
  {
   "cell_type": "code",
   "execution_count": 29,
   "metadata": {},
   "outputs": [
    {
     "data": {
      "text/plain": [
       "SS_mean_train_score      0.657403\n",
       "SS_mean_test_score       0.628603\n",
       "SS_mean_overfit          0.028800\n",
       "SFS_mean_train_score     0.669467\n",
       "SFS_mean_test_score      0.635985\n",
       "SFS_mean_overfit         0.033482\n",
       "SHAP_mean_train_score    0.709751\n",
       "SHAP_mean_test_score     0.629010\n",
       "SHAP_mean_overfit        0.080741\n",
       "FSP_mean_train_score     0.671306\n",
       "FSP_mean_test_score      0.636073\n",
       "FSP_mean_overfit         0.035232\n",
       "dtype: float64"
      ]
     },
     "execution_count": 29,
     "metadata": {},
     "output_type": "execute_result"
    }
   ],
   "source": [
    "result_df.apply(lambda x :np.mean(x),axis=0)"
   ]
  },
  {
   "cell_type": "code",
   "execution_count": null,
   "metadata": {},
   "outputs": [],
   "source": []
  }
 ],
 "metadata": {
  "kernelspec": {
   "display_name": "Python 3",
   "language": "python",
   "name": "python3"
  },
  "language_info": {
   "codemirror_mode": {
    "name": "ipython",
    "version": 3
   },
   "file_extension": ".py",
   "mimetype": "text/x-python",
   "name": "python",
   "nbconvert_exporter": "python",
   "pygments_lexer": "ipython3",
   "version": "3.6.10"
  }
 },
 "nbformat": 4,
 "nbformat_minor": 4
}
