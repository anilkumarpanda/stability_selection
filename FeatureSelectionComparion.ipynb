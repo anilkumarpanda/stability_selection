{
 "cells": [
  {
   "cell_type": "markdown",
   "metadata": {},
   "source": [
    "## Feature Selection Comparison:\n",
    "1. Load UCI Credit dataset.\n",
    "2. Create noisy data with make classification.\n",
    "3. Try different Feature selection algorithms.\n",
    "4. Compare results.\n",
    "5. Conclusion"
   ]
  },
  {
   "cell_type": "code",
   "execution_count": 1,
   "metadata": {},
   "outputs": [],
   "source": [
    "import numpy as np\n",
    "import pandas as pd\n",
    "import matplotlib.pyplot as plt\n",
    "import seaborn as sns\n",
    "import scipy.stats as stats\n",
    "import shap\n",
    "import warnings\n",
    "warnings.filterwarnings('ignore')\n",
    "from sklearn.linear_model import LogisticRegression\n",
    "from sklearn.pipeline import Pipeline\n",
    "from sklearn.preprocessing import StandardScaler\n",
    "from sklearn.utils import check_random_state\n",
    "from stability_selection import StabilitySelection, plot_stability_path\n",
    "from sklearn.ensemble import RandomForestClassifier\n",
    "from sklearn.model_selection import train_test_split\n",
    "from mlxtend.feature_selection import SequentialFeatureSelector as SFS\n",
    "from sklearn.model_selection import cross_val_score,cross_validate\n",
    "from xgboost import XGBClassifier"
   ]
  },
  {
   "cell_type": "markdown",
   "metadata": {},
   "source": [
    "### 1. Read UCI Credit Card and add noise."
   ]
  },
  {
   "cell_type": "code",
   "execution_count": 2,
   "metadata": {},
   "outputs": [
    {
     "name": "stdout",
     "output_type": "stream",
     "text": [
      "UCI dataset shape: (30000, 23)\n",
      "UCI dataset shape after concatenation : (30000, 33)\n"
     ]
    },
    {
     "data": {
      "text/html": [
       "<div>\n",
       "<style scoped>\n",
       "    .dataframe tbody tr th:only-of-type {\n",
       "        vertical-align: middle;\n",
       "    }\n",
       "\n",
       "    .dataframe tbody tr th {\n",
       "        vertical-align: top;\n",
       "    }\n",
       "\n",
       "    .dataframe thead th {\n",
       "        text-align: right;\n",
       "    }\n",
       "</style>\n",
       "<table border=\"1\" class=\"dataframe\">\n",
       "  <thead>\n",
       "    <tr style=\"text-align: right;\">\n",
       "      <th></th>\n",
       "      <th>LIMIT_BAL</th>\n",
       "      <th>SEX</th>\n",
       "      <th>EDUCATION</th>\n",
       "      <th>MARRIAGE</th>\n",
       "      <th>AGE</th>\n",
       "      <th>PAY_0</th>\n",
       "      <th>PAY_2</th>\n",
       "      <th>PAY_3</th>\n",
       "      <th>PAY_4</th>\n",
       "      <th>PAY_5</th>\n",
       "      <th>...</th>\n",
       "      <th>arti_0</th>\n",
       "      <th>arti_1</th>\n",
       "      <th>arti_2</th>\n",
       "      <th>arti_3</th>\n",
       "      <th>arti_4</th>\n",
       "      <th>arti_5</th>\n",
       "      <th>arti_6</th>\n",
       "      <th>arti_7</th>\n",
       "      <th>arti_8</th>\n",
       "      <th>arti_9</th>\n",
       "    </tr>\n",
       "  </thead>\n",
       "  <tbody>\n",
       "    <tr>\n",
       "      <th>0</th>\n",
       "      <td>20000.0</td>\n",
       "      <td>2</td>\n",
       "      <td>2</td>\n",
       "      <td>1</td>\n",
       "      <td>24</td>\n",
       "      <td>2</td>\n",
       "      <td>2</td>\n",
       "      <td>-1</td>\n",
       "      <td>-1</td>\n",
       "      <td>-2</td>\n",
       "      <td>...</td>\n",
       "      <td>3.609003</td>\n",
       "      <td>-3.501360</td>\n",
       "      <td>-1.397978</td>\n",
       "      <td>0.633272</td>\n",
       "      <td>-1.454712</td>\n",
       "      <td>-1.397978</td>\n",
       "      <td>-0.770617</td>\n",
       "      <td>0.633272</td>\n",
       "      <td>-1.609000</td>\n",
       "      <td>0.589507</td>\n",
       "    </tr>\n",
       "    <tr>\n",
       "      <th>1</th>\n",
       "      <td>120000.0</td>\n",
       "      <td>2</td>\n",
       "      <td>2</td>\n",
       "      <td>2</td>\n",
       "      <td>26</td>\n",
       "      <td>-1</td>\n",
       "      <td>2</td>\n",
       "      <td>0</td>\n",
       "      <td>0</td>\n",
       "      <td>0</td>\n",
       "      <td>...</td>\n",
       "      <td>3.264413</td>\n",
       "      <td>-1.497532</td>\n",
       "      <td>0.589626</td>\n",
       "      <td>1.880331</td>\n",
       "      <td>-2.103931</td>\n",
       "      <td>0.589626</td>\n",
       "      <td>-2.549066</td>\n",
       "      <td>1.880331</td>\n",
       "      <td>-1.048928</td>\n",
       "      <td>0.308160</td>\n",
       "    </tr>\n",
       "    <tr>\n",
       "      <th>2</th>\n",
       "      <td>90000.0</td>\n",
       "      <td>2</td>\n",
       "      <td>2</td>\n",
       "      <td>2</td>\n",
       "      <td>34</td>\n",
       "      <td>0</td>\n",
       "      <td>0</td>\n",
       "      <td>0</td>\n",
       "      <td>0</td>\n",
       "      <td>0</td>\n",
       "      <td>...</td>\n",
       "      <td>3.682927</td>\n",
       "      <td>-3.949155</td>\n",
       "      <td>-2.268057</td>\n",
       "      <td>0.060678</td>\n",
       "      <td>-0.099712</td>\n",
       "      <td>-2.268057</td>\n",
       "      <td>-0.970887</td>\n",
       "      <td>0.060678</td>\n",
       "      <td>-1.704405</td>\n",
       "      <td>1.010888</td>\n",
       "    </tr>\n",
       "    <tr>\n",
       "      <th>3</th>\n",
       "      <td>50000.0</td>\n",
       "      <td>2</td>\n",
       "      <td>2</td>\n",
       "      <td>1</td>\n",
       "      <td>37</td>\n",
       "      <td>0</td>\n",
       "      <td>0</td>\n",
       "      <td>0</td>\n",
       "      <td>0</td>\n",
       "      <td>0</td>\n",
       "      <td>...</td>\n",
       "      <td>3.514225</td>\n",
       "      <td>-3.422135</td>\n",
       "      <td>-1.339164</td>\n",
       "      <td>1.757385</td>\n",
       "      <td>-0.900735</td>\n",
       "      <td>-1.339164</td>\n",
       "      <td>-1.889848</td>\n",
       "      <td>1.757385</td>\n",
       "      <td>0.190783</td>\n",
       "      <td>2.368423</td>\n",
       "    </tr>\n",
       "    <tr>\n",
       "      <th>4</th>\n",
       "      <td>50000.0</td>\n",
       "      <td>1</td>\n",
       "      <td>2</td>\n",
       "      <td>1</td>\n",
       "      <td>57</td>\n",
       "      <td>-1</td>\n",
       "      <td>0</td>\n",
       "      <td>-1</td>\n",
       "      <td>0</td>\n",
       "      <td>0</td>\n",
       "      <td>...</td>\n",
       "      <td>-2.711377</td>\n",
       "      <td>0.638811</td>\n",
       "      <td>-1.653678</td>\n",
       "      <td>-2.084054</td>\n",
       "      <td>2.340673</td>\n",
       "      <td>-1.653678</td>\n",
       "      <td>1.925549</td>\n",
       "      <td>-2.084054</td>\n",
       "      <td>1.892363</td>\n",
       "      <td>0.530124</td>\n",
       "    </tr>\n",
       "  </tbody>\n",
       "</table>\n",
       "<p>5 rows × 33 columns</p>\n",
       "</div>"
      ],
      "text/plain": [
       "   LIMIT_BAL  SEX  EDUCATION  MARRIAGE  AGE  PAY_0  PAY_2  PAY_3  PAY_4  \\\n",
       "0    20000.0    2          2         1   24      2      2     -1     -1   \n",
       "1   120000.0    2          2         2   26     -1      2      0      0   \n",
       "2    90000.0    2          2         2   34      0      0      0      0   \n",
       "3    50000.0    2          2         1   37      0      0      0      0   \n",
       "4    50000.0    1          2         1   57     -1      0     -1      0   \n",
       "\n",
       "   PAY_5  ...    arti_0    arti_1    arti_2    arti_3    arti_4    arti_5  \\\n",
       "0     -2  ...  3.609003 -3.501360 -1.397978  0.633272 -1.454712 -1.397978   \n",
       "1      0  ...  3.264413 -1.497532  0.589626  1.880331 -2.103931  0.589626   \n",
       "2      0  ...  3.682927 -3.949155 -2.268057  0.060678 -0.099712 -2.268057   \n",
       "3      0  ...  3.514225 -3.422135 -1.339164  1.757385 -0.900735 -1.339164   \n",
       "4      0  ... -2.711377  0.638811 -1.653678 -2.084054  2.340673 -1.653678   \n",
       "\n",
       "     arti_6    arti_7    arti_8    arti_9  \n",
       "0 -0.770617  0.633272 -1.609000  0.589507  \n",
       "1 -2.549066  1.880331 -1.048928  0.308160  \n",
       "2 -0.970887  0.060678 -1.704405  1.010888  \n",
       "3 -1.889848  1.757385  0.190783  2.368423  \n",
       "4  1.925549 -2.084054  1.892363  0.530124  \n",
       "\n",
       "[5 rows x 33 columns]"
      ]
     },
     "execution_count": 2,
     "metadata": {},
     "output_type": "execute_result"
    }
   ],
   "source": [
    "data = pd.read_csv(\"data/UCI_Credit_Card.csv\")\n",
    "data.head(5)\n",
    "data[\"default.payment.next.month\"]=data[\"default.payment.next.month\"].apply(lambda x : int(x))\n",
    "data.rename(columns={'default.payment.next.month':'target'},inplace=True)\n",
    "y_uci = data[\"target\"].values\n",
    "X_uci_df = data.drop(columns=['ID','target'])\n",
    "print(f\"UCI dataset shape: {X_uci_df.shape}\")\n",
    "from sklearn.datasets import make_classification\n",
    "\n",
    "# Build a classification task using 3 informative features\n",
    "X_art, y_art = make_classification(n_samples=30000,\n",
    "                           n_features=10,\n",
    "                           n_informative=5,\n",
    "                           n_redundant=3,\n",
    "                           n_repeated=2,\n",
    "                           n_classes=2,\n",
    "                           random_state=456,\n",
    "                           shuffle=True)\n",
    "\n",
    "X_art_df = pd.DataFrame(data=X_art)\n",
    "X_art_df=X_art_df.add_prefix(\"arti_\")\n",
    "\n",
    "#Merging dataframes :\n",
    "X = pd.concat([X_uci_df,X_art_df],axis=1)\n",
    "y = y_uci\n",
    "print(f\"UCI dataset shape after concatenation : {X.shape}\")\n",
    "X_train, X_test, y_train, y_test = train_test_split( X, y, test_size=0.3,random_state=345)\n",
    "X.head()"
   ]
  },
  {
   "cell_type": "markdown",
   "metadata": {},
   "source": [
    "### 2.Stability Selection:"
   ]
  },
  {
   "cell_type": "code",
   "execution_count": 3,
   "metadata": {},
   "outputs": [
    {
     "name": "stdout",
     "output_type": "stream",
     "text": [
      "Fitting estimator for lambda = 2.00000 (1 / 8) on 100 bootstrap samples\n"
     ]
    },
    {
     "name": "stderr",
     "output_type": "stream",
     "text": [
      "[Parallel(n_jobs=4)]: Using backend LokyBackend with 4 concurrent workers.\n",
      "[Parallel(n_jobs=4)]: Done  42 tasks      | elapsed:    4.2s\n",
      "[Parallel(n_jobs=4)]: Done 100 out of 100 | elapsed:    7.5s finished\n",
      "[Parallel(n_jobs=4)]: Using backend LokyBackend with 4 concurrent workers.\n"
     ]
    },
    {
     "name": "stdout",
     "output_type": "stream",
     "text": [
      "Fitting estimator for lambda = 3.00000 (2 / 8) on 100 bootstrap samples\n"
     ]
    },
    {
     "name": "stderr",
     "output_type": "stream",
     "text": [
      "[Parallel(n_jobs=4)]: Done  42 tasks      | elapsed:    2.6s\n",
      "[Parallel(n_jobs=4)]: Done 100 out of 100 | elapsed:    5.9s finished\n",
      "[Parallel(n_jobs=4)]: Using backend LokyBackend with 4 concurrent workers.\n"
     ]
    },
    {
     "name": "stdout",
     "output_type": "stream",
     "text": [
      "Fitting estimator for lambda = 4.00000 (3 / 8) on 100 bootstrap samples\n"
     ]
    },
    {
     "name": "stderr",
     "output_type": "stream",
     "text": [
      "[Parallel(n_jobs=4)]: Done  42 tasks      | elapsed:    2.6s\n",
      "[Parallel(n_jobs=4)]: Done 100 out of 100 | elapsed:    5.9s finished\n",
      "[Parallel(n_jobs=4)]: Using backend LokyBackend with 4 concurrent workers.\n"
     ]
    },
    {
     "name": "stdout",
     "output_type": "stream",
     "text": [
      "Fitting estimator for lambda = 5.00000 (4 / 8) on 100 bootstrap samples\n"
     ]
    },
    {
     "name": "stderr",
     "output_type": "stream",
     "text": [
      "[Parallel(n_jobs=4)]: Done  42 tasks      | elapsed:    2.6s\n",
      "[Parallel(n_jobs=4)]: Done 100 out of 100 | elapsed:    5.9s finished\n",
      "[Parallel(n_jobs=4)]: Using backend LokyBackend with 4 concurrent workers.\n"
     ]
    },
    {
     "name": "stdout",
     "output_type": "stream",
     "text": [
      "Fitting estimator for lambda = 6.00000 (5 / 8) on 100 bootstrap samples\n"
     ]
    },
    {
     "name": "stderr",
     "output_type": "stream",
     "text": [
      "[Parallel(n_jobs=4)]: Done  42 tasks      | elapsed:    2.6s\n",
      "[Parallel(n_jobs=4)]: Done 100 out of 100 | elapsed:    5.9s finished\n",
      "[Parallel(n_jobs=4)]: Using backend LokyBackend with 4 concurrent workers.\n"
     ]
    },
    {
     "name": "stdout",
     "output_type": "stream",
     "text": [
      "Fitting estimator for lambda = 7.00000 (6 / 8) on 100 bootstrap samples\n"
     ]
    },
    {
     "name": "stderr",
     "output_type": "stream",
     "text": [
      "[Parallel(n_jobs=4)]: Done  42 tasks      | elapsed:    2.6s\n",
      "[Parallel(n_jobs=4)]: Done 100 out of 100 | elapsed:    5.9s finished\n",
      "[Parallel(n_jobs=4)]: Using backend LokyBackend with 4 concurrent workers.\n"
     ]
    },
    {
     "name": "stdout",
     "output_type": "stream",
     "text": [
      "Fitting estimator for lambda = 8.00000 (7 / 8) on 100 bootstrap samples\n"
     ]
    },
    {
     "name": "stderr",
     "output_type": "stream",
     "text": [
      "[Parallel(n_jobs=4)]: Done  42 tasks      | elapsed:    2.6s\n",
      "[Parallel(n_jobs=4)]: Done 100 out of 100 | elapsed:    5.9s finished\n",
      "[Parallel(n_jobs=4)]: Using backend LokyBackend with 4 concurrent workers.\n"
     ]
    },
    {
     "name": "stdout",
     "output_type": "stream",
     "text": [
      "Fitting estimator for lambda = 9.00000 (8 / 8) on 100 bootstrap samples\n"
     ]
    },
    {
     "name": "stderr",
     "output_type": "stream",
     "text": [
      "[Parallel(n_jobs=4)]: Done  42 tasks      | elapsed:    2.6s\n",
      "[Parallel(n_jobs=4)]: Done 100 out of 100 | elapsed:    6.0s finished\n"
     ]
    },
    {
     "data": {
      "image/png": "[encoded data removed]",
      "text/plain": [
       "<Figure size 432x288 with 1 Axes>"
      ]
     },
     "metadata": {
      "needs_background": "light"
     },
     "output_type": "display_data"
    }
   ],
   "source": [
    "base_estimator = Pipeline([\n",
    "    ('model', RandomForestClassifier(max_depth=2,n_estimators=10,n_jobs=4))])\n",
    "selector = StabilitySelection(base_estimator=base_estimator,\n",
    "                              lambda_name='model__max_depth',\n",
    "                              n_bootstrap_iterations=100,\n",
    "                              n_jobs=4,\n",
    "                              lambda_grid=np.arange(2,10,step=1),\n",
    "                              verbose=1)\n",
    "selector.fit(X_train,y_train)\n",
    "\n",
    "fig, ax = plot_stability_path(selector)\n",
    "fig.show()\n",
    "\n",
    "selected_variables = selector.get_support(indices=True)\n",
    "selected_scores = selector.stability_scores_.max(axis=1)"
   ]
  },
  {
   "cell_type": "code",
   "execution_count": 4,
   "metadata": {},
   "outputs": [
    {
     "name": "stdout",
     "output_type": "stream",
     "text": [
      "Variable Name : PAY_0 \t Stability Score :1.0\n",
      "Variable Name : PAY_2 \t Stability Score :1.0\n",
      "Variable Name : PAY_3 \t Stability Score :0.99\n",
      "Variable Name : PAY_4 \t Stability Score :0.88\n",
      "Variable Name : PAY_5 \t Stability Score :0.87\n",
      "Variable Name : PAY_6 \t Stability Score :0.75\n",
      "Variable Name : PAY_AMT1 \t Stability Score :0.71\n"
     ]
    }
   ],
   "source": [
    "# Print the names of the most important features\n",
    "ss_flist = []\n",
    "for feature_list_index in selector.get_support(indices=True):\n",
    "    print(f'Variable Name : {X.columns[feature_list_index]} \\t Stability Score :{selected_scores[feature_list_index]}')\n",
    "    ss_flist.append(X.columns[feature_list_index])\n",
    "    "
   ]
  },
  {
   "cell_type": "markdown",
   "metadata": {},
   "source": [
    "### 3.SHAP Feature Importances"
   ]
  },
  {
   "cell_type": "code",
   "execution_count": 5,
   "metadata": {},
   "outputs": [
    {
     "name": "stdout",
     "output_type": "stream",
     "text": [
      "['PAY_0', 'PAY_2', 'PAY_3', 'PAY_5', 'LIMIT_BAL', 'PAY_4', 'PAY_AMT1']\n"
     ]
    }
   ],
   "source": [
    "# Build the model with the random forest regression algorithm:\n",
    "model = RandomForestClassifier(max_depth=4, random_state=456, n_estimators=20)\n",
    "model.fit(X_train,y_train)\n",
    "\n",
    "explainer = shap.TreeExplainer(model)\n",
    "shap_values = explainer.shap_values(X_train,y_train,check_additivity=False)\n",
    "\n",
    "shap_vals= np.abs(shap_values).mean(0)\n",
    "feature_importance = pd.DataFrame(list(zip(X.columns, sum(shap_vals))), columns=['col_name','feature_importance_vals'])\n",
    "feature_importance.sort_values(by=['feature_importance_vals'], ascending=False,inplace=True)\n",
    "shap_flist = list(feature_importance.col_name[0:7])\n",
    "print(shap_flist)"
   ]
  },
  {
   "cell_type": "markdown",
   "metadata": {},
   "source": [
    "### 4.MLXtend SFS"
   ]
  },
  {
   "cell_type": "code",
   "execution_count": 6,
   "metadata": {},
   "outputs": [
    {
     "name": "stderr",
     "output_type": "stream",
     "text": [
      "[Parallel(n_jobs=4)]: Using backend LokyBackend with 4 concurrent workers.\n",
      "[Parallel(n_jobs=4)]: Done  26 out of  33 | elapsed:    2.1s remaining:    0.6s\n",
      "[Parallel(n_jobs=4)]: Done  33 out of  33 | elapsed:    2.5s finished\n",
      "\n",
      "[2020-04-10 00:07:01] Features: 1/10 -- score: 0.7122847987257677[Parallel(n_jobs=4)]: Using backend LokyBackend with 4 concurrent workers.\n",
      "[Parallel(n_jobs=4)]: Done  32 out of  32 | elapsed:    2.3s finished\n",
      "\n",
      "[2020-04-10 00:07:04] Features: 2/10 -- score: 0.7450352477150837[Parallel(n_jobs=4)]: Using backend LokyBackend with 4 concurrent workers.\n",
      "[Parallel(n_jobs=4)]: Done  31 out of  31 | elapsed:    2.5s finished\n",
      "\n",
      "[2020-04-10 00:07:06] Features: 3/10 -- score: 0.755154984255357[Parallel(n_jobs=4)]: Using backend LokyBackend with 4 concurrent workers.\n",
      "[Parallel(n_jobs=4)]: Done  30 out of  30 | elapsed:    2.8s finished\n",
      "\n",
      "[2020-04-10 00:07:09] Features: 4/10 -- score: 0.7615940392481751[Parallel(n_jobs=4)]: Using backend LokyBackend with 4 concurrent workers.\n",
      "[Parallel(n_jobs=4)]: Done  29 out of  29 | elapsed:    2.7s finished\n",
      "\n",
      "[2020-04-10 00:07:12] Features: 5/10 -- score: 0.7647800742270022[Parallel(n_jobs=4)]: Using backend LokyBackend with 4 concurrent workers.\n",
      "[Parallel(n_jobs=4)]: Done  28 out of  28 | elapsed:    2.7s finished\n",
      "\n",
      "[2020-04-10 00:07:14] Features: 6/10 -- score: 0.7676610824212942[Parallel(n_jobs=4)]: Using backend LokyBackend with 4 concurrent workers.\n",
      "[Parallel(n_jobs=4)]: Done  27 out of  27 | elapsed:    2.5s finished\n",
      "\n",
      "[2020-04-10 00:07:17] Features: 7/10 -- score: 0.7678928838195119[Parallel(n_jobs=4)]: Using backend LokyBackend with 4 concurrent workers.\n",
      "[Parallel(n_jobs=4)]: Done  26 out of  26 | elapsed:    2.6s finished\n",
      "\n",
      "[2020-04-10 00:07:20] Features: 8/10 -- score: 0.7689608527763717[Parallel(n_jobs=4)]: Using backend LokyBackend with 4 concurrent workers.\n",
      "[Parallel(n_jobs=4)]: Done  25 out of  25 | elapsed:    3.3s finished\n",
      "\n",
      "[2020-04-10 00:07:23] Features: 9/10 -- score: 0.7687345018114397[Parallel(n_jobs=4)]: Using backend LokyBackend with 4 concurrent workers.\n",
      "[Parallel(n_jobs=4)]: Done  24 out of  24 | elapsed:    2.8s finished\n",
      "\n",
      "[2020-04-10 00:07:26] Features: 10/10 -- score: 0.7692665904869876"
     ]
    }
   ],
   "source": [
    "sfs1 = SFS(model, \n",
    "           k_features=(3,10), \n",
    "           forward=True, \n",
    "           floating=False, \n",
    "           verbose=2,\n",
    "           scoring='roc_auc',\n",
    "           n_jobs=4,\n",
    "           cv=3)\n",
    "\n",
    "sfs1 = sfs1.fit(X_train, y_train)\n",
    "sfs1_flist=list(sfs1.k_feature_names_)"
   ]
  },
  {
   "cell_type": "markdown",
   "metadata": {},
   "source": [
    "### 5.Combine selected features."
   ]
  },
  {
   "cell_type": "code",
   "execution_count": 23,
   "metadata": {},
   "outputs": [
    {
     "name": "stdout",
     "output_type": "stream",
     "text": [
      "Features selected with SS : ['PAY_0', 'PAY_2', 'PAY_3', 'PAY_4', 'PAY_5', 'PAY_6', 'PAY_AMT1'] \n",
      "\n",
      "Features selected with SFS : ['LIMIT_BAL', 'EDUCATION', 'PAY_0', 'PAY_3', 'PAY_4', 'PAY_6', 'BILL_AMT1', 'BILL_AMT3', 'PAY_AMT1', 'PAY_AMT2'] \n",
      "\n",
      "Features selected with SHAP : ['PAY_0', 'PAY_2', 'PAY_3', 'PAY_5', 'LIMIT_BAL', 'PAY_4', 'PAY_AMT1'] \n",
      "\n",
      "Features selected with FSP : ['PAY_3', 'PAY_4', 'PAY_AMT2', 'PAY_5', 'PAY_6', 'PAY_AMT1', 'BILL_AMT1', 'EDUCATION', 'PAY_0', 'PAY_2', 'BILL_AMT3', 'LIMIT_BAL'] \n",
      "\n",
      "Features selected with All Columns : ['LIMIT_BAL', 'SEX', 'EDUCATION', 'MARRIAGE', 'AGE', 'PAY_0', 'PAY_2', 'PAY_3', 'PAY_4', 'PAY_5', 'PAY_6', 'BILL_AMT1', 'BILL_AMT2', 'BILL_AMT3', 'BILL_AMT4', 'BILL_AMT5', 'BILL_AMT6', 'PAY_AMT1', 'PAY_AMT2', 'PAY_AMT3', 'PAY_AMT4', 'PAY_AMT5', 'PAY_AMT6', 'arti_0', 'arti_1', 'arti_2', 'arti_3', 'arti_4', 'arti_5', 'arti_6', 'arti_7', 'arti_8', 'arti_9'] \n",
      "\n"
     ]
    }
   ],
   "source": [
    "total_fs_list=list(set(sfs1_flist+ss_flist+shap_flist))\n",
    "\n",
    "fs_method_list = [(\"SS\",ss_flist),\n",
    "                  (\"SFS\",sfs1_flist),\n",
    "                  (\"SHAP\",shap_flist),\n",
    "                  (\"FSP\",total_fs_list),\n",
    "                  (\"All Columns\",list(X.columns))]\n",
    "\n",
    "result_df = pd.DataFrame()\n",
    "\n",
    "# xgb_params={'n_estimators': 284, 'max_depth': 18, \n",
    "#             'min_child_weight': 6, 'scale_pos_weight': 66, \n",
    "#             'subsample': 0.8, 'colsample_bytree': 0.8}\n",
    "\n",
    "for feature_list in fs_method_list:\n",
    "    \n",
    "    print(f'Features selected with {feature_list[0]} : {feature_list[1]} \\n')\n",
    "    X_fs = X[feature_list[1]]\n",
    "    clf = XGBClassifier()\n",
    "    scores = cross_validate(clf,X_fs,y,cv=5,scoring='roc_auc',return_train_score=True)\n",
    "    \n",
    "    result_df[f'{feature_list[0]}_mean_train_score']=scores['train_score']\n",
    "    result_df[f'{feature_list[0]}_mean_test_score']=scores['test_score']\n",
    "    result_df[f'{feature_list[0]}_mean_overfit']=(scores['train_score']-scores['test_score'])\n"
   ]
  },
  {
   "cell_type": "markdown",
   "metadata": {},
   "source": [
    "### 6.Results"
   ]
  },
  {
   "cell_type": "code",
   "execution_count": 24,
   "metadata": {},
   "outputs": [
    {
     "data": {
      "text/html": [
       "<div>\n",
       "<style scoped>\n",
       "    .dataframe tbody tr th:only-of-type {\n",
       "        vertical-align: middle;\n",
       "    }\n",
       "\n",
       "    .dataframe tbody tr th {\n",
       "        vertical-align: top;\n",
       "    }\n",
       "\n",
       "    .dataframe thead th {\n",
       "        text-align: right;\n",
       "    }\n",
       "</style>\n",
       "<table border=\"1\" class=\"dataframe\">\n",
       "  <thead>\n",
       "    <tr style=\"text-align: right;\">\n",
       "      <th></th>\n",
       "      <th>SS_mean_train_score</th>\n",
       "      <th>SS_mean_test_score</th>\n",
       "      <th>SS_mean_overfit</th>\n",
       "      <th>SFS_mean_train_score</th>\n",
       "      <th>SFS_mean_test_score</th>\n",
       "      <th>SFS_mean_overfit</th>\n",
       "      <th>SHAP_mean_train_score</th>\n",
       "      <th>SHAP_mean_test_score</th>\n",
       "      <th>SHAP_mean_overfit</th>\n",
       "      <th>FSP_mean_train_score</th>\n",
       "      <th>FSP_mean_test_score</th>\n",
       "      <th>FSP_mean_overfit</th>\n",
       "      <th>All Columns_mean_train_score</th>\n",
       "      <th>All Columns_mean_test_score</th>\n",
       "      <th>All Columns_mean_overfit</th>\n",
       "    </tr>\n",
       "  </thead>\n",
       "  <tbody>\n",
       "    <tr>\n",
       "      <th>0</th>\n",
       "      <td>0.837164</td>\n",
       "      <td>0.732649</td>\n",
       "      <td>0.104516</td>\n",
       "      <td>0.904832</td>\n",
       "      <td>0.744112</td>\n",
       "      <td>0.160721</td>\n",
       "      <td>0.856668</td>\n",
       "      <td>0.738217</td>\n",
       "      <td>0.118451</td>\n",
       "      <td>0.901761</td>\n",
       "      <td>0.748386</td>\n",
       "      <td>0.153375</td>\n",
       "      <td>0.960915</td>\n",
       "      <td>0.730146</td>\n",
       "      <td>0.230769</td>\n",
       "    </tr>\n",
       "    <tr>\n",
       "      <th>1</th>\n",
       "      <td>0.829514</td>\n",
       "      <td>0.742481</td>\n",
       "      <td>0.087033</td>\n",
       "      <td>0.906653</td>\n",
       "      <td>0.739102</td>\n",
       "      <td>0.167550</td>\n",
       "      <td>0.857465</td>\n",
       "      <td>0.743218</td>\n",
       "      <td>0.114247</td>\n",
       "      <td>0.905027</td>\n",
       "      <td>0.740449</td>\n",
       "      <td>0.164578</td>\n",
       "      <td>0.963582</td>\n",
       "      <td>0.737238</td>\n",
       "      <td>0.226343</td>\n",
       "    </tr>\n",
       "    <tr>\n",
       "      <th>2</th>\n",
       "      <td>0.832073</td>\n",
       "      <td>0.771096</td>\n",
       "      <td>0.060977</td>\n",
       "      <td>0.902052</td>\n",
       "      <td>0.778740</td>\n",
       "      <td>0.123312</td>\n",
       "      <td>0.853831</td>\n",
       "      <td>0.781760</td>\n",
       "      <td>0.072071</td>\n",
       "      <td>0.902110</td>\n",
       "      <td>0.779593</td>\n",
       "      <td>0.122517</td>\n",
       "      <td>0.959815</td>\n",
       "      <td>0.769796</td>\n",
       "      <td>0.190020</td>\n",
       "    </tr>\n",
       "    <tr>\n",
       "      <th>3</th>\n",
       "      <td>0.827826</td>\n",
       "      <td>0.769357</td>\n",
       "      <td>0.058469</td>\n",
       "      <td>0.899616</td>\n",
       "      <td>0.786991</td>\n",
       "      <td>0.112625</td>\n",
       "      <td>0.853761</td>\n",
       "      <td>0.783277</td>\n",
       "      <td>0.070484</td>\n",
       "      <td>0.900585</td>\n",
       "      <td>0.791384</td>\n",
       "      <td>0.109201</td>\n",
       "      <td>0.954251</td>\n",
       "      <td>0.778831</td>\n",
       "      <td>0.175419</td>\n",
       "    </tr>\n",
       "    <tr>\n",
       "      <th>4</th>\n",
       "      <td>0.830931</td>\n",
       "      <td>0.765442</td>\n",
       "      <td>0.065490</td>\n",
       "      <td>0.897447</td>\n",
       "      <td>0.777184</td>\n",
       "      <td>0.120263</td>\n",
       "      <td>0.858078</td>\n",
       "      <td>0.770657</td>\n",
       "      <td>0.087421</td>\n",
       "      <td>0.898225</td>\n",
       "      <td>0.780219</td>\n",
       "      <td>0.118006</td>\n",
       "      <td>0.960819</td>\n",
       "      <td>0.769525</td>\n",
       "      <td>0.191294</td>\n",
       "    </tr>\n",
       "  </tbody>\n",
       "</table>\n",
       "</div>"
      ],
      "text/plain": [
       "   SS_mean_train_score  SS_mean_test_score  SS_mean_overfit  \\\n",
       "0             0.837164            0.732649         0.104516   \n",
       "1             0.829514            0.742481         0.087033   \n",
       "2             0.832073            0.771096         0.060977   \n",
       "3             0.827826            0.769357         0.058469   \n",
       "4             0.830931            0.765442         0.065490   \n",
       "\n",
       "   SFS_mean_train_score  SFS_mean_test_score  SFS_mean_overfit  \\\n",
       "0              0.904832             0.744112          0.160721   \n",
       "1              0.906653             0.739102          0.167550   \n",
       "2              0.902052             0.778740          0.123312   \n",
       "3              0.899616             0.786991          0.112625   \n",
       "4              0.897447             0.777184          0.120263   \n",
       "\n",
       "   SHAP_mean_train_score  SHAP_mean_test_score  SHAP_mean_overfit  \\\n",
       "0               0.856668              0.738217           0.118451   \n",
       "1               0.857465              0.743218           0.114247   \n",
       "2               0.853831              0.781760           0.072071   \n",
       "3               0.853761              0.783277           0.070484   \n",
       "4               0.858078              0.770657           0.087421   \n",
       "\n",
       "   FSP_mean_train_score  FSP_mean_test_score  FSP_mean_overfit  \\\n",
       "0              0.901761             0.748386          0.153375   \n",
       "1              0.905027             0.740449          0.164578   \n",
       "2              0.902110             0.779593          0.122517   \n",
       "3              0.900585             0.791384          0.109201   \n",
       "4              0.898225             0.780219          0.118006   \n",
       "\n",
       "   All Columns_mean_train_score  All Columns_mean_test_score  \\\n",
       "0                      0.960915                     0.730146   \n",
       "1                      0.963582                     0.737238   \n",
       "2                      0.959815                     0.769796   \n",
       "3                      0.954251                     0.778831   \n",
       "4                      0.960819                     0.769525   \n",
       "\n",
       "   All Columns_mean_overfit  \n",
       "0                  0.230769  \n",
       "1                  0.226343  \n",
       "2                  0.190020  \n",
       "3                  0.175419  \n",
       "4                  0.191294  "
      ]
     },
     "execution_count": 24,
     "metadata": {},
     "output_type": "execute_result"
    }
   ],
   "source": [
    "result_df"
   ]
  },
  {
   "cell_type": "code",
   "execution_count": 25,
   "metadata": {},
   "outputs": [
    {
     "data": {
      "text/plain": [
       "SS_mean_train_score             0.831502\n",
       "SS_mean_test_score              0.756205\n",
       "SS_mean_overfit                 0.075297\n",
       "SFS_mean_train_score            0.902120\n",
       "SFS_mean_test_score             0.765226\n",
       "SFS_mean_overfit                0.136894\n",
       "SHAP_mean_train_score           0.855960\n",
       "SHAP_mean_test_score            0.763426\n",
       "SHAP_mean_overfit               0.092535\n",
       "FSP_mean_train_score            0.901541\n",
       "FSP_mean_test_score             0.768006\n",
       "FSP_mean_overfit                0.133535\n",
       "All Columns_mean_train_score    0.959876\n",
       "All Columns_mean_test_score     0.757107\n",
       "All Columns_mean_overfit        0.202769\n",
       "dtype: float64"
      ]
     },
     "execution_count": 25,
     "metadata": {},
     "output_type": "execute_result"
    }
   ],
   "source": [
    "result_df.apply(lambda x :np.mean(x),axis=0)"
   ]
  },
  {
   "cell_type": "markdown",
   "metadata": {},
   "source": [
    "### Appendix"
   ]
  },
  {
   "cell_type": "code",
   "execution_count": 15,
   "metadata": {},
   "outputs": [],
   "source": [
    "import os\n",
    "import numpy as np\n",
    "import pandas as pd\n",
    "from sklearn import preprocessing\n",
    "import xgboost as xgb\n",
    "import optuna\n",
    "import functools\n",
    "from sklearn.model_selection import train_test_split\n",
    "from sklearn.metrics import roc_curve,auc,accuracy_score,f1_score,roc_auc_score"
   ]
  },
  {
   "cell_type": "code",
   "execution_count": 31,
   "metadata": {},
   "outputs": [],
   "source": [
    "def opt(X_train, y_train, X_test, y_test, trial):\n",
    "    #param_list\n",
    "    n_estimators = trial.suggest_int('n_estimators', 0, 1000)\n",
    "    max_depth = trial.suggest_int('max_depth', 1, 20)\n",
    "    min_child_weight = trial.suggest_int('min_child_weight', 1, 20)\n",
    "    learning_rate = trial.suggest_discrete_uniform('learning_rate', 0.01, 0.1, 0.01)\n",
    "    scale_pos_weight = trial.suggest_int('scale_pos_weight', 1, 100)\n",
    "    subsample = trial.suggest_discrete_uniform('subsample', 0.5, 0.9, 0.1)\n",
    "    colsample_bytree = trial.suggest_discrete_uniform('colsample_bytree', 0.5, 0.9, 0.1)\n",
    "\n",
    "    xgboost_tuna = xgb.XGBClassifier(\n",
    "        random_state=42, \n",
    "        n_estimators = n_estimators,\n",
    "        max_depth = max_depth,\n",
    "        min_child_weight = min_child_weight,\n",
    "        learning_rate = learning_rate,\n",
    "        scale_pos_weight = scale_pos_weight,\n",
    "        subsample = subsample,\n",
    "        colsample_bytree = colsample_bytree,\n",
    "    )\n",
    "    xgboost_tuna.fit(X_train, y_train)\n",
    "    tuna_pred_test = xgboost_tuna.predict_proba(X_test)[:,1]\n",
    "    \n",
    "    return (1.0 - (roc_auc_score(y_test,tuna_pred_test)))\n",
    "\n",
    "def get_opt_parameters(X,y):\n",
    "    \"\"\"\n",
    "    Takes X,y and returns best parameters.\n",
    "    \n",
    "    \"\"\"\n",
    "    X_train, X_test, y_train, y_test = train_test_split( X, y, test_size=0.3,random_state=345)\n",
    "    study = optuna.create_study()\n",
    "    study.optimize(functools.partial(opt, X_train, y_train, X_test, y_test),n_trials=10)\n",
    "    return study.best_params\n",
    "    "
   ]
  },
  {
   "cell_type": "code",
   "execution_count": 32,
   "metadata": {},
   "outputs": [
    {
     "name": "stdout",
     "output_type": "stream",
     "text": [
      "Features selected with SS : ['PAY_0', 'PAY_2', 'PAY_3', 'PAY_4', 'PAY_5', 'PAY_6', 'PAY_AMT1'] \n",
      "\n"
     ]
    },
    {
     "name": "stderr",
     "output_type": "stream",
     "text": [
      "\u001b[32m[I 2020-04-10 07:09:13,185]\u001b[0m Finished trial#0 with value: 0.23834203108094476 with parameters: {'n_estimators': 220, 'max_depth': 1, 'min_child_weight': 12, 'learning_rate': 0.09999999999999999, 'scale_pos_weight': 19, 'subsample': 0.8, 'colsample_bytree': 0.7}. Best is trial#0 with value: 0.23834203108094476.\u001b[0m\n",
      "\u001b[32m[I 2020-04-10 07:09:16,561]\u001b[0m Finished trial#1 with value: 0.2477188290834571 with parameters: {'n_estimators': 273, 'max_depth': 11, 'min_child_weight': 18, 'learning_rate': 0.09, 'scale_pos_weight': 61, 'subsample': 0.6, 'colsample_bytree': 0.5}. Best is trial#0 with value: 0.23834203108094476.\u001b[0m\n",
      "\u001b[32m[I 2020-04-10 07:09:25,093]\u001b[0m Finished trial#2 with value: 0.23778970046854075 with parameters: {'n_estimators': 957, 'max_depth': 6, 'min_child_weight': 18, 'learning_rate': 0.02, 'scale_pos_weight': 79, 'subsample': 0.7, 'colsample_bytree': 0.8}. Best is trial#2 with value: 0.23778970046854075.\u001b[0m\n",
      "\u001b[32m[I 2020-04-10 07:09:32,147]\u001b[0m Finished trial#3 with value: 0.25420385165089576 with parameters: {'n_estimators': 266, 'max_depth': 19, 'min_child_weight': 15, 'learning_rate': 0.05, 'scale_pos_weight': 66, 'subsample': 0.5, 'colsample_bytree': 0.9}. Best is trial#2 with value: 0.23778970046854075.\u001b[0m\n",
      "\u001b[32m[I 2020-04-10 07:09:40,224]\u001b[0m Finished trial#4 with value: 0.26142207958546515 with parameters: {'n_estimators': 835, 'max_depth': 6, 'min_child_weight': 15, 'learning_rate': 0.09999999999999999, 'scale_pos_weight': 88, 'subsample': 0.7, 'colsample_bytree': 0.9}. Best is trial#2 with value: 0.23778970046854075.\u001b[0m\n",
      "\u001b[32m[I 2020-04-10 07:09:41,791]\u001b[0m Finished trial#5 with value: 0.23303588211292658 with parameters: {'n_estimators': 386, 'max_depth': 2, 'min_child_weight': 8, 'learning_rate': 0.08, 'scale_pos_weight': 43, 'subsample': 0.5, 'colsample_bytree': 0.5}. Best is trial#5 with value: 0.23303588211292658.\u001b[0m\n",
      "\u001b[32m[I 2020-04-10 07:10:00,884]\u001b[0m Finished trial#6 with value: 0.29593742406841983 with parameters: {'n_estimators': 935, 'max_depth': 17, 'min_child_weight': 3, 'learning_rate': 0.06999999999999999, 'scale_pos_weight': 11, 'subsample': 0.6, 'colsample_bytree': 0.6}. Best is trial#5 with value: 0.23303588211292658.\u001b[0m\n",
      "\u001b[32m[I 2020-04-10 07:10:12,960]\u001b[0m Finished trial#7 with value: 0.2791934003135831 with parameters: {'n_estimators': 796, 'max_depth': 9, 'min_child_weight': 8, 'learning_rate': 0.09999999999999999, 'scale_pos_weight': 34, 'subsample': 0.6, 'colsample_bytree': 0.9}. Best is trial#5 with value: 0.23303588211292658.\u001b[0m\n",
      "\u001b[32m[I 2020-04-10 07:10:27,681]\u001b[0m Finished trial#8 with value: 0.29459225314500004 with parameters: {'n_estimators': 741, 'max_depth': 13, 'min_child_weight': 6, 'learning_rate': 0.09999999999999999, 'scale_pos_weight': 50, 'subsample': 0.7, 'colsample_bytree': 0.8}. Best is trial#5 with value: 0.23303588211292658.\u001b[0m\n",
      "\u001b[32m[I 2020-04-10 07:10:28,882]\u001b[0m Finished trial#9 with value: 0.24734866262997202 with parameters: {'n_estimators': 73, 'max_depth': 13, 'min_child_weight': 9, 'learning_rate': 0.09999999999999999, 'scale_pos_weight': 24, 'subsample': 0.8, 'colsample_bytree': 0.6}. Best is trial#5 with value: 0.23303588211292658.\u001b[0m\n"
     ]
    },
    {
     "name": "stdout",
     "output_type": "stream",
     "text": [
      "Features selected with SFS : ['LIMIT_BAL', 'EDUCATION', 'PAY_0', 'PAY_3', 'PAY_4', 'PAY_6', 'BILL_AMT1', 'BILL_AMT3', 'PAY_AMT1', 'PAY_AMT2'] \n",
      "\n"
     ]
    },
    {
     "name": "stderr",
     "output_type": "stream",
     "text": [
      "\u001b[32m[I 2020-04-10 07:10:39,144]\u001b[0m Finished trial#0 with value: 0.22684738669289028 with parameters: {'n_estimators': 48, 'max_depth': 10, 'min_child_weight': 17, 'learning_rate': 0.05, 'scale_pos_weight': 22, 'subsample': 0.9, 'colsample_bytree': 0.7}. Best is trial#0 with value: 0.22684738669289028.\u001b[0m\n",
      "\u001b[32m[I 2020-04-10 07:11:02,972]\u001b[0m Finished trial#1 with value: 0.25852586286928536 with parameters: {'n_estimators': 834, 'max_depth': 20, 'min_child_weight': 18, 'learning_rate': 0.08, 'scale_pos_weight': 22, 'subsample': 0.8, 'colsample_bytree': 0.5}. Best is trial#0 with value: 0.22684738669289028.\u001b[0m\n",
      "\u001b[32m[I 2020-04-10 07:11:26,145]\u001b[0m Finished trial#2 with value: 0.25902414595597 with parameters: {'n_estimators': 667, 'max_depth': 19, 'min_child_weight': 19, 'learning_rate': 0.09, 'scale_pos_weight': 41, 'subsample': 0.8, 'colsample_bytree': 0.7}. Best is trial#0 with value: 0.22684738669289028.\u001b[0m\n",
      "\u001b[32m[I 2020-04-10 07:11:30,262]\u001b[0m Finished trial#3 with value: 0.24671341616465858 with parameters: {'n_estimators': 182, 'max_depth': 13, 'min_child_weight': 1, 'learning_rate': 0.03, 'scale_pos_weight': 30, 'subsample': 0.5, 'colsample_bytree': 0.5}. Best is trial#0 with value: 0.22684738669289028.\u001b[0m\n",
      "\u001b[32m[I 2020-04-10 07:12:08,529]\u001b[0m Finished trial#4 with value: 0.2670768333035338 with parameters: {'n_estimators': 890, 'max_depth': 18, 'min_child_weight': 13, 'learning_rate': 0.09, 'scale_pos_weight': 80, 'subsample': 0.7, 'colsample_bytree': 0.9}. Best is trial#0 with value: 0.22684738669289028.\u001b[0m\n",
      "\u001b[32m[I 2020-04-10 07:12:37,787]\u001b[0m Finished trial#5 with value: 0.25633591729933436 with parameters: {'n_estimators': 676, 'max_depth': 20, 'min_child_weight': 13, 'learning_rate': 0.060000000000000005, 'scale_pos_weight': 68, 'subsample': 0.7, 'colsample_bytree': 0.8}. Best is trial#0 with value: 0.22684738669289028.\u001b[0m\n",
      "\u001b[32m[I 2020-04-10 07:13:06,745]\u001b[0m Finished trial#6 with value: 0.25259363653243105 with parameters: {'n_estimators': 962, 'max_depth': 13, 'min_child_weight': 18, 'learning_rate': 0.05, 'scale_pos_weight': 9, 'subsample': 0.8, 'colsample_bytree': 0.8}. Best is trial#0 with value: 0.22684738669289028.\u001b[0m\n",
      "\u001b[32m[I 2020-04-10 07:13:09,406]\u001b[0m Finished trial#7 with value: 0.21728459213566587 with parameters: {'n_estimators': 245, 'max_depth': 5, 'min_child_weight': 18, 'learning_rate': 0.04, 'scale_pos_weight': 24, 'subsample': 0.7, 'colsample_bytree': 0.6}. Best is trial#7 with value: 0.21728459213566587.\u001b[0m\n",
      "\u001b[32m[I 2020-04-10 07:13:13,229]\u001b[0m Finished trial#8 with value: 0.2238566853028553 with parameters: {'n_estimators': 596, 'max_depth': 3, 'min_child_weight': 8, 'learning_rate': 0.09999999999999999, 'scale_pos_weight': 8, 'subsample': 0.8, 'colsample_bytree': 0.6}. Best is trial#7 with value: 0.21728459213566587.\u001b[0m\n",
      "\u001b[32m[I 2020-04-10 07:13:35,709]\u001b[0m Finished trial#9 with value: 0.22658098146008687 with parameters: {'n_estimators': 589, 'max_depth': 16, 'min_child_weight': 17, 'learning_rate': 0.01, 'scale_pos_weight': 99, 'subsample': 0.6, 'colsample_bytree': 0.8}. Best is trial#7 with value: 0.21728459213566587.\u001b[0m\n"
     ]
    },
    {
     "name": "stdout",
     "output_type": "stream",
     "text": [
      "Features selected with SHAP : ['PAY_0', 'PAY_2', 'PAY_3', 'PAY_5', 'LIMIT_BAL', 'PAY_4', 'PAY_AMT1'] \n",
      "\n"
     ]
    },
    {
     "name": "stderr",
     "output_type": "stream",
     "text": [
      "\u001b[32m[I 2020-04-10 07:13:57,373]\u001b[0m Finished trial#0 with value: 0.26534215486374735 with parameters: {'n_estimators': 251, 'max_depth': 15, 'min_child_weight': 12, 'learning_rate': 0.09999999999999999, 'scale_pos_weight': 88, 'subsample': 0.5, 'colsample_bytree': 0.9}. Best is trial#0 with value: 0.26534215486374735.\u001b[0m\n",
      "\u001b[32m[I 2020-04-10 07:14:03,117]\u001b[0m Finished trial#1 with value: 0.24408578950505222 with parameters: {'n_estimators': 351, 'max_depth': 10, 'min_child_weight': 19, 'learning_rate': 0.05, 'scale_pos_weight': 68, 'subsample': 0.7, 'colsample_bytree': 0.8}. Best is trial#1 with value: 0.24408578950505222.\u001b[0m\n",
      "\u001b[32m[I 2020-04-10 07:14:05,465]\u001b[0m Finished trial#2 with value: 0.24729540307348108 with parameters: {'n_estimators': 101, 'max_depth': 17, 'min_child_weight': 7, 'learning_rate': 0.09999999999999999, 'scale_pos_weight': 6, 'subsample': 0.7, 'colsample_bytree': 0.7}. Best is trial#1 with value: 0.24408578950505222.\u001b[0m\n",
      "\u001b[32m[I 2020-04-10 07:14:10,487]\u001b[0m Finished trial#3 with value: 0.24631065643853955 with parameters: {'n_estimators': 205, 'max_depth': 15, 'min_child_weight': 20, 'learning_rate': 0.060000000000000005, 'scale_pos_weight': 42, 'subsample': 0.7, 'colsample_bytree': 0.8}. Best is trial#1 with value: 0.24408578950505222.\u001b[0m\n",
      "\u001b[32m[I 2020-04-10 07:14:12,490]\u001b[0m Finished trial#4 with value: 0.22703481591892682 with parameters: {'n_estimators': 436, 'max_depth': 2, 'min_child_weight': 13, 'learning_rate': 0.04, 'scale_pos_weight': 63, 'subsample': 0.6, 'colsample_bytree': 0.8}. Best is trial#4 with value: 0.22703481591892682.\u001b[0m\n",
      "\u001b[32m[I 2020-04-10 07:14:18,889]\u001b[0m Finished trial#5 with value: 0.2650239943793439 with parameters: {'n_estimators': 336, 'max_depth': 11, 'min_child_weight': 1, 'learning_rate': 0.06999999999999999, 'scale_pos_weight': 3, 'subsample': 0.6, 'colsample_bytree': 0.8}. Best is trial#4 with value: 0.22703481591892682.\u001b[0m\n",
      "\u001b[32m[I 2020-04-10 07:14:20,075]\u001b[0m Finished trial#6 with value: 0.23166828988327748 with parameters: {'n_estimators': 243, 'max_depth': 2, 'min_child_weight': 8, 'learning_rate': 0.02, 'scale_pos_weight': 4, 'subsample': 0.5, 'colsample_bytree': 0.6}. Best is trial#4 with value: 0.22703481591892682.\u001b[0m\n",
      "\u001b[32m[I 2020-04-10 07:14:29,729]\u001b[0m Finished trial#7 with value: 0.2551461195810639 with parameters: {'n_estimators': 406, 'max_depth': 19, 'min_child_weight': 4, 'learning_rate': 0.02, 'scale_pos_weight': 57, 'subsample': 0.8, 'colsample_bytree': 0.7}. Best is trial#4 with value: 0.22703481591892682.\u001b[0m\n",
      "\u001b[32m[I 2020-04-10 07:14:37,386]\u001b[0m Finished trial#8 with value: 0.2536135552483909 with parameters: {'n_estimators': 437, 'max_depth': 13, 'min_child_weight': 15, 'learning_rate': 0.05, 'scale_pos_weight': 62, 'subsample': 0.8, 'colsample_bytree': 0.7}. Best is trial#4 with value: 0.22703481591892682.\u001b[0m\n",
      "\u001b[32m[I 2020-04-10 07:14:37,964]\u001b[0m Finished trial#9 with value: 0.23224683838092108 with parameters: {'n_estimators': 69, 'max_depth': 4, 'min_child_weight': 1, 'learning_rate': 0.060000000000000005, 'scale_pos_weight': 94, 'subsample': 0.8, 'colsample_bytree': 0.8}. Best is trial#4 with value: 0.22703481591892682.\u001b[0m\n"
     ]
    },
    {
     "name": "stdout",
     "output_type": "stream",
     "text": [
      "Features selected with FSP : ['PAY_3', 'PAY_4', 'PAY_AMT2', 'PAY_5', 'PAY_6', 'PAY_AMT1', 'BILL_AMT1', 'EDUCATION', 'PAY_0', 'PAY_2', 'BILL_AMT3', 'LIMIT_BAL'] \n",
      "\n"
     ]
    },
    {
     "name": "stderr",
     "output_type": "stream",
     "text": [
      "\u001b[32m[I 2020-04-10 07:15:09,395]\u001b[0m Finished trial#0 with value: 0.2593689899437934 with parameters: {'n_estimators': 543, 'max_depth': 18, 'min_child_weight': 3, 'learning_rate': 0.05, 'scale_pos_weight': 66, 'subsample': 0.6, 'colsample_bytree': 0.5}. Best is trial#0 with value: 0.2593689899437934.\u001b[0m\n",
      "\u001b[32m[I 2020-04-10 07:15:14,319]\u001b[0m Finished trial#1 with value: 0.23839658004162778 with parameters: {'n_estimators': 277, 'max_depth': 9, 'min_child_weight': 15, 'learning_rate': 0.09, 'scale_pos_weight': 89, 'subsample': 0.7, 'colsample_bytree': 0.5}. Best is trial#1 with value: 0.23839658004162778.\u001b[0m\n",
      "\u001b[32m[I 2020-04-10 07:15:17,889]\u001b[0m Finished trial#2 with value: 0.23742841657726788 with parameters: {'n_estimators': 95, 'max_depth': 16, 'min_child_weight': 4, 'learning_rate': 0.05, 'scale_pos_weight': 11, 'subsample': 0.9, 'colsample_bytree': 0.6}. Best is trial#2 with value: 0.23742841657726788.\u001b[0m\n",
      "\u001b[32m[I 2020-04-10 07:15:37,885]\u001b[0m Finished trial#3 with value: 0.2476962286933121 with parameters: {'n_estimators': 911, 'max_depth': 10, 'min_child_weight': 2, 'learning_rate': 0.04, 'scale_pos_weight': 5, 'subsample': 0.9, 'colsample_bytree': 0.7}. Best is trial#2 with value: 0.23742841657726788.\u001b[0m\n",
      "\u001b[32m[I 2020-04-10 07:15:41,302]\u001b[0m Finished trial#4 with value: 0.22173006380545002 with parameters: {'n_estimators': 917, 'max_depth': 1, 'min_child_weight': 7, 'learning_rate': 0.04, 'scale_pos_weight': 2, 'subsample': 0.8, 'colsample_bytree': 0.5}. Best is trial#4 with value: 0.22173006380545002.\u001b[0m\n",
      "\u001b[32m[I 2020-04-10 07:15:48,876]\u001b[0m Finished trial#5 with value: 0.22757991154114166 with parameters: {'n_estimators': 794, 'max_depth': 4, 'min_child_weight': 18, 'learning_rate': 0.060000000000000005, 'scale_pos_weight': 89, 'subsample': 0.6, 'colsample_bytree': 0.6}. Best is trial#4 with value: 0.22173006380545002.\u001b[0m\n",
      "\u001b[32m[I 2020-04-10 07:16:19,266]\u001b[0m Finished trial#6 with value: 0.26207000519200085 with parameters: {'n_estimators': 946, 'max_depth': 15, 'min_child_weight': 9, 'learning_rate': 0.06999999999999999, 'scale_pos_weight': 26, 'subsample': 0.7, 'colsample_bytree': 0.6}. Best is trial#4 with value: 0.22173006380545002.\u001b[0m\n",
      "\u001b[32m[I 2020-04-10 07:16:20,964]\u001b[0m Finished trial#7 with value: 0.2238372726064075 with parameters: {'n_estimators': 407, 'max_depth': 1, 'min_child_weight': 8, 'learning_rate': 0.05, 'scale_pos_weight': 73, 'subsample': 0.5, 'colsample_bytree': 0.6}. Best is trial#4 with value: 0.22173006380545002.\u001b[0m\n",
      "\u001b[32m[I 2020-04-10 07:16:43,464]\u001b[0m Finished trial#8 with value: 0.24270265279153147 with parameters: {'n_estimators': 639, 'max_depth': 13, 'min_child_weight': 15, 'learning_rate': 0.04, 'scale_pos_weight': 30, 'subsample': 0.8, 'colsample_bytree': 0.9}. Best is trial#4 with value: 0.22173006380545002.\u001b[0m\n",
      "\u001b[32m[I 2020-04-10 07:16:46,385]\u001b[0m Finished trial#9 with value: 0.2233384880847591 with parameters: {'n_estimators': 205, 'max_depth': 5, 'min_child_weight': 16, 'learning_rate': 0.06999999999999999, 'scale_pos_weight': 74, 'subsample': 0.6, 'colsample_bytree': 0.8}. Best is trial#4 with value: 0.22173006380545002.\u001b[0m\n"
     ]
    }
   ],
   "source": [
    "fs_method_list = [(\"SS\",ss_flist),\n",
    "                  (\"SFS\",sfs1_flist),\n",
    "                  (\"SHAP\",shap_flist),\n",
    "                  (\"FSP\",total_fs_list)]\n",
    "\n",
    "result_df = pd.DataFrame()\n",
    "\n",
    "for feature_list in fs_method_list:\n",
    "    \n",
    "    print(f'Features selected with {feature_list[0]} : {feature_list[1]} \\n')\n",
    "    \n",
    "    X_fs = X[feature_list[1]]\n",
    "    optimised_param = get_opt_parameters(X_fs,y)\n",
    "    \n",
    "    clf = XGBClassifier(**optimised_param)\n",
    "    \n",
    "    scores = cross_validate(clf,X_fs,y,cv=5,scoring='roc_auc',return_train_score=True)\n",
    "    \n",
    "    result_df[f'{feature_list[0]}_mean_train_score']=scores['train_score']\n",
    "    result_df[f'{feature_list[0]}_mean_test_score']=scores['test_score']\n",
    "    result_df[f'{feature_list[0]}_mean_overfit']=(scores['train_score']-scores['test_score'])"
   ]
  },
  {
   "cell_type": "code",
   "execution_count": 33,
   "metadata": {},
   "outputs": [
    {
     "data": {
      "text/plain": [
       "SS_mean_train_score      0.776802\n",
       "SS_mean_test_score       0.766136\n",
       "SS_mean_overfit          0.010666\n",
       "SFS_mean_train_score     0.820358\n",
       "SFS_mean_test_score      0.779836\n",
       "SFS_mean_overfit         0.040521\n",
       "SHAP_mean_train_score    0.779401\n",
       "SHAP_mean_test_score     0.769997\n",
       "SHAP_mean_overfit        0.009404\n",
       "FSP_mean_train_score     0.784355\n",
       "FSP_mean_test_score      0.776512\n",
       "FSP_mean_overfit         0.007843\n",
       "dtype: float64"
      ]
     },
     "execution_count": 33,
     "metadata": {},
     "output_type": "execute_result"
    }
   ],
   "source": [
    "result_df.apply(lambda x :np.mean(x),axis=0)"
   ]
  },
  {
   "cell_type": "code",
   "execution_count": null,
   "metadata": {},
   "outputs": [],
   "source": []
  }
 ],
 "metadata": {
  "kernelspec": {
   "display_name": "Python 3",
   "language": "python",
   "name": "python3"
  },
  "language_info": {
   "codemirror_mode": {
    "name": "ipython",
    "version": 3
   },
   "file_extension": ".py",
   "mimetype": "text/x-python",
   "name": "python",
   "nbconvert_exporter": "python",
   "pygments_lexer": "ipython3",
   "version": "3.6.10"
  }
 },
 "nbformat": 4,
 "nbformat_minor": 4
}
